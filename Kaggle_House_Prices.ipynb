{
  "cells": [
    {
      "cell_type": "markdown",
      "metadata": {
        "id": "view-in-github",
        "colab_type": "text"
      },
      "source": [
        "<a href=\"https://colab.research.google.com/github/cool60334/Kaggle-Practice/blob/main/Kaggle_House_Prices.ipynb\" target=\"_parent\"><img src=\"https://colab.research.google.com/assets/colab-badge.svg\" alt=\"Open In Colab\"/></a>"
      ]
    },
    {
      "cell_type": "markdown",
      "source": [
        "# 載入資料"
      ],
      "metadata": {
        "id": "JG4s_UAtS1PD"
      }
    },
    {
      "cell_type": "code",
      "source": [
        "import numpy as np\n",
        "import seaborn as sns\n",
        "import matplotlib.pyplot as plt\n",
        "from scipy.stats import boxcox\n",
        "%matplotlib inline"
      ],
      "metadata": {
        "id": "6WNMha_W9Dii"
      },
      "execution_count": null,
      "outputs": []
    },
    {
      "cell_type": "code",
      "execution_count": null,
      "metadata": {
        "colab": {
          "base_uri": "https://localhost:8080/"
        },
        "id": "1KnSOq5Qy3eZ",
        "outputId": "4cc0c042-0c17-4156-dd2d-481a663ccc23"
      },
      "outputs": [
        {
          "output_type": "execute_result",
          "data": {
            "text/plain": [
              "('test.csv', <http.client.HTTPMessage at 0x7f5827909250>)"
            ]
          },
          "metadata": {},
          "execution_count": 2
        }
      ],
      "source": [
        "from urllib.request import urlretrieve\n",
        "\n",
        "url = \"https://raw.githubusercontent.com/cool60334/Kaggle-Practice/main/train.csv\"\n",
        "urlretrieve(url, \"train.csv\")\n",
        "\n",
        "url = \"https://raw.githubusercontent.com/cool60334/Kaggle-Practice/main/test.csv\"\n",
        "urlretrieve(url, \"test.csv\")"
      ]
    },
    {
      "cell_type": "code",
      "execution_count": null,
      "metadata": {
        "id": "_Pfskoj80SSH"
      },
      "outputs": [],
      "source": [
        "import pandas as pd\n",
        "traindf = pd.read_csv(\"train.csv\", encoding=\"utf-8\")  # 1460 rows\n",
        "testdf = pd.read_csv(\"test.csv\", encoding=\"utf-8\")  # 1459 rows"
      ]
    },
    {
      "cell_type": "code",
      "execution_count": null,
      "metadata": {
        "id": "QaQieprVKTlT"
      },
      "outputs": [],
      "source": [
        "pd.set_option('display.max_columns', 100)\n",
        "pd.set_option('display.max_rows', 100)"
      ]
    },
    {
      "cell_type": "code",
      "execution_count": null,
      "metadata": {
        "colab": {
          "base_uri": "https://localhost:8080/",
          "height": 487
        },
        "id": "GIuQ-58U3SAm",
        "outputId": "0fb0318f-d38d-4aba-f4e3-40a8363c1b3c"
      },
      "outputs": [
        {
          "output_type": "execute_result",
          "data": {
            "text/plain": [
              "      MSSubClass MSZoning  LotFrontage  LotArea Street Alley LotShape  \\\n",
              "0             60       RL         65.0     8450   Pave   NaN      Reg   \n",
              "1             20       RL         80.0     9600   Pave   NaN      Reg   \n",
              "2             60       RL         68.0    11250   Pave   NaN      IR1   \n",
              "3             70       RL         60.0     9550   Pave   NaN      IR1   \n",
              "4             60       RL         84.0    14260   Pave   NaN      IR1   \n",
              "...          ...      ...          ...      ...    ...   ...      ...   \n",
              "2914         160       RM         21.0     1936   Pave   NaN      Reg   \n",
              "2915         160       RM         21.0     1894   Pave   NaN      Reg   \n",
              "2916          20       RL        160.0    20000   Pave   NaN      Reg   \n",
              "2917          85       RL         62.0    10441   Pave   NaN      Reg   \n",
              "2918          60       RL         74.0     9627   Pave   NaN      Reg   \n",
              "\n",
              "     LandContour Utilities LotConfig LandSlope Neighborhood Condition1  \\\n",
              "0            Lvl    AllPub    Inside       Gtl      CollgCr       Norm   \n",
              "1            Lvl    AllPub       FR2       Gtl      Veenker      Feedr   \n",
              "2            Lvl    AllPub    Inside       Gtl      CollgCr       Norm   \n",
              "3            Lvl    AllPub    Corner       Gtl      Crawfor       Norm   \n",
              "4            Lvl    AllPub       FR2       Gtl      NoRidge       Norm   \n",
              "...          ...       ...       ...       ...          ...        ...   \n",
              "2914         Lvl    AllPub    Inside       Gtl      MeadowV       Norm   \n",
              "2915         Lvl    AllPub    Inside       Gtl      MeadowV       Norm   \n",
              "2916         Lvl    AllPub    Inside       Gtl      Mitchel       Norm   \n",
              "2917         Lvl    AllPub    Inside       Gtl      Mitchel       Norm   \n",
              "2918         Lvl    AllPub    Inside       Mod      Mitchel       Norm   \n",
              "\n",
              "     Condition2 BldgType HouseStyle  OverallQual  OverallCond  YearBuilt  \\\n",
              "0          Norm     1Fam     2Story            7            5       2003   \n",
              "1          Norm     1Fam     1Story            6            8       1976   \n",
              "2          Norm     1Fam     2Story            7            5       2001   \n",
              "3          Norm     1Fam     2Story            7            5       1915   \n",
              "4          Norm     1Fam     2Story            8            5       2000   \n",
              "...         ...      ...        ...          ...          ...        ...   \n",
              "2914       Norm    Twnhs     2Story            4            7       1970   \n",
              "2915       Norm   TwnhsE     2Story            4            5       1970   \n",
              "2916       Norm     1Fam     1Story            5            7       1960   \n",
              "2917       Norm     1Fam     SFoyer            5            5       1992   \n",
              "2918       Norm     1Fam     2Story            7            5       1993   \n",
              "\n",
              "      YearRemodAdd RoofStyle RoofMatl Exterior1st Exterior2nd MasVnrType  \\\n",
              "0             2003     Gable  CompShg     VinylSd     VinylSd    BrkFace   \n",
              "1             1976     Gable  CompShg     MetalSd     MetalSd       None   \n",
              "2             2002     Gable  CompShg     VinylSd     VinylSd    BrkFace   \n",
              "3             1970     Gable  CompShg     Wd Sdng     Wd Shng       None   \n",
              "4             2000     Gable  CompShg     VinylSd     VinylSd    BrkFace   \n",
              "...            ...       ...      ...         ...         ...        ...   \n",
              "2914          1970     Gable  CompShg     CemntBd     CmentBd       None   \n",
              "2915          1970     Gable  CompShg     CemntBd     CmentBd       None   \n",
              "2916          1996     Gable  CompShg     VinylSd     VinylSd       None   \n",
              "2917          1992     Gable  CompShg     HdBoard     Wd Shng       None   \n",
              "2918          1994     Gable  CompShg     HdBoard     HdBoard    BrkFace   \n",
              "\n",
              "      MasVnrArea ExterQual ExterCond Foundation BsmtQual BsmtCond  \\\n",
              "0          196.0        Gd        TA      PConc       Gd       TA   \n",
              "1            0.0        TA        TA     CBlock       Gd       TA   \n",
              "2          162.0        Gd        TA      PConc       Gd       TA   \n",
              "3            0.0        TA        TA     BrkTil       TA       Gd   \n",
              "4          350.0        Gd        TA      PConc       Gd       TA   \n",
              "...          ...       ...       ...        ...      ...      ...   \n",
              "2914         0.0        TA        TA     CBlock       TA       TA   \n",
              "2915         0.0        TA        TA     CBlock       TA       TA   \n",
              "2916         0.0        TA        TA     CBlock       TA       TA   \n",
              "2917         0.0        TA        TA      PConc       Gd       TA   \n",
              "2918        94.0        TA        TA      PConc       Gd       TA   \n",
              "\n",
              "     BsmtExposure BsmtFinType1  BsmtFinSF1 BsmtFinType2  BsmtFinSF2  \\\n",
              "0              No          GLQ       706.0          Unf         0.0   \n",
              "1              Gd          ALQ       978.0          Unf         0.0   \n",
              "2              Mn          GLQ       486.0          Unf         0.0   \n",
              "3              No          ALQ       216.0          Unf         0.0   \n",
              "4              Av          GLQ       655.0          Unf         0.0   \n",
              "...           ...          ...         ...          ...         ...   \n",
              "2914           No          Unf         0.0          Unf         0.0   \n",
              "2915           No          Rec       252.0          Unf         0.0   \n",
              "2916           No          ALQ      1224.0          Unf         0.0   \n",
              "2917           Av          GLQ       337.0          Unf         0.0   \n",
              "2918           Av          LwQ       758.0          Unf         0.0   \n",
              "\n",
              "      BsmtUnfSF  TotalBsmtSF Heating HeatingQC CentralAir Electrical  \\\n",
              "0         150.0        856.0    GasA        Ex          Y      SBrkr   \n",
              "1         284.0       1262.0    GasA        Ex          Y      SBrkr   \n",
              "2         434.0        920.0    GasA        Ex          Y      SBrkr   \n",
              "3         540.0        756.0    GasA        Gd          Y      SBrkr   \n",
              "4         490.0       1145.0    GasA        Ex          Y      SBrkr   \n",
              "...         ...          ...     ...       ...        ...        ...   \n",
              "2914      546.0        546.0    GasA        Gd          Y      SBrkr   \n",
              "2915      294.0        546.0    GasA        TA          Y      SBrkr   \n",
              "2916        0.0       1224.0    GasA        Ex          Y      SBrkr   \n",
              "2917      575.0        912.0    GasA        TA          Y      SBrkr   \n",
              "2918      238.0        996.0    GasA        Ex          Y      SBrkr   \n",
              "\n",
              "      1stFlrSF  2ndFlrSF  LowQualFinSF  GrLivArea  BsmtFullBath  BsmtHalfBath  \\\n",
              "0          856       854             0       1710           1.0           0.0   \n",
              "1         1262         0             0       1262           0.0           1.0   \n",
              "2          920       866             0       1786           1.0           0.0   \n",
              "3          961       756             0       1717           1.0           0.0   \n",
              "4         1145      1053             0       2198           1.0           0.0   \n",
              "...        ...       ...           ...        ...           ...           ...   \n",
              "2914       546       546             0       1092           0.0           0.0   \n",
              "2915       546       546             0       1092           0.0           0.0   \n",
              "2916      1224         0             0       1224           1.0           0.0   \n",
              "2917       970         0             0        970           0.0           1.0   \n",
              "2918       996      1004             0       2000           0.0           0.0   \n",
              "\n",
              "      FullBath  HalfBath  BedroomAbvGr  KitchenAbvGr KitchenQual  \\\n",
              "0            2         1             3             1          Gd   \n",
              "1            2         0             3             1          TA   \n",
              "2            2         1             3             1          Gd   \n",
              "3            1         0             3             1          Gd   \n",
              "4            2         1             4             1          Gd   \n",
              "...        ...       ...           ...           ...         ...   \n",
              "2914         1         1             3             1          TA   \n",
              "2915         1         1             3             1          TA   \n",
              "2916         1         0             4             1          TA   \n",
              "2917         1         0             3             1          TA   \n",
              "2918         2         1             3             1          TA   \n",
              "\n",
              "      TotRmsAbvGrd Functional  Fireplaces FireplaceQu GarageType  GarageYrBlt  \\\n",
              "0                8        Typ           0         NaN     Attchd       2003.0   \n",
              "1                6        Typ           1          TA     Attchd       1976.0   \n",
              "2                6        Typ           1          TA     Attchd       2001.0   \n",
              "3                7        Typ           1          Gd     Detchd       1998.0   \n",
              "4                9        Typ           1          TA     Attchd       2000.0   \n",
              "...            ...        ...         ...         ...        ...          ...   \n",
              "2914             5        Typ           0         NaN        NaN          NaN   \n",
              "2915             6        Typ           0         NaN    CarPort       1970.0   \n",
              "2916             7        Typ           1          TA     Detchd       1960.0   \n",
              "2917             6        Typ           0         NaN        NaN          NaN   \n",
              "2918             9        Typ           1          TA     Attchd       1993.0   \n",
              "\n",
              "     GarageFinish  GarageCars  GarageArea GarageQual GarageCond PavedDrive  \\\n",
              "0             RFn         2.0       548.0         TA         TA          Y   \n",
              "1             RFn         2.0       460.0         TA         TA          Y   \n",
              "2             RFn         2.0       608.0         TA         TA          Y   \n",
              "3             Unf         3.0       642.0         TA         TA          Y   \n",
              "4             RFn         3.0       836.0         TA         TA          Y   \n",
              "...           ...         ...         ...        ...        ...        ...   \n",
              "2914          NaN         0.0         0.0        NaN        NaN          Y   \n",
              "2915          Unf         1.0       286.0         TA         TA          Y   \n",
              "2916          Unf         2.0       576.0         TA         TA          Y   \n",
              "2917          NaN         0.0         0.0        NaN        NaN          Y   \n",
              "2918          Fin         3.0       650.0         TA         TA          Y   \n",
              "\n",
              "      WoodDeckSF  OpenPorchSF  EnclosedPorch  3SsnPorch  ScreenPorch  \\\n",
              "0              0           61              0          0            0   \n",
              "1            298            0              0          0            0   \n",
              "2              0           42              0          0            0   \n",
              "3              0           35            272          0            0   \n",
              "4            192           84              0          0            0   \n",
              "...          ...          ...            ...        ...          ...   \n",
              "2914           0            0              0          0            0   \n",
              "2915           0           24              0          0            0   \n",
              "2916         474            0              0          0            0   \n",
              "2917          80           32              0          0            0   \n",
              "2918         190           48              0          0            0   \n",
              "\n",
              "      PoolArea PoolQC  Fence MiscFeature  MiscVal  MoSold  YrSold SaleType  \\\n",
              "0            0    NaN    NaN         NaN        0       2    2008       WD   \n",
              "1            0    NaN    NaN         NaN        0       5    2007       WD   \n",
              "2            0    NaN    NaN         NaN        0       9    2008       WD   \n",
              "3            0    NaN    NaN         NaN        0       2    2006       WD   \n",
              "4            0    NaN    NaN         NaN        0      12    2008       WD   \n",
              "...        ...    ...    ...         ...      ...     ...     ...      ...   \n",
              "2914         0    NaN    NaN         NaN        0       6    2006       WD   \n",
              "2915         0    NaN    NaN         NaN        0       4    2006       WD   \n",
              "2916         0    NaN    NaN         NaN        0       9    2006       WD   \n",
              "2917         0    NaN  MnPrv        Shed      700       7    2006       WD   \n",
              "2918         0    NaN    NaN         NaN        0      11    2006       WD   \n",
              "\n",
              "     SaleCondition  \n",
              "0           Normal  \n",
              "1           Normal  \n",
              "2           Normal  \n",
              "3          Abnorml  \n",
              "4           Normal  \n",
              "...            ...  \n",
              "2914        Normal  \n",
              "2915       Abnorml  \n",
              "2916       Abnorml  \n",
              "2917        Normal  \n",
              "2918        Normal  \n",
              "\n",
              "[2919 rows x 79 columns]"
            ],
            "text/html": [
              "\n",
              "  <div id=\"df-c2abc59d-e4a3-455f-901e-1f487c1b8d9b\">\n",
              "    <div class=\"colab-df-container\">\n",
              "      <div>\n",
              "<style scoped>\n",
              "    .dataframe tbody tr th:only-of-type {\n",
              "        vertical-align: middle;\n",
              "    }\n",
              "\n",
              "    .dataframe tbody tr th {\n",
              "        vertical-align: top;\n",
              "    }\n",
              "\n",
              "    .dataframe thead th {\n",
              "        text-align: right;\n",
              "    }\n",
              "</style>\n",
              "<table border=\"1\" class=\"dataframe\">\n",
              "  <thead>\n",
              "    <tr style=\"text-align: right;\">\n",
              "      <th></th>\n",
              "      <th>MSSubClass</th>\n",
              "      <th>MSZoning</th>\n",
              "      <th>LotFrontage</th>\n",
              "      <th>LotArea</th>\n",
              "      <th>Street</th>\n",
              "      <th>Alley</th>\n",
              "      <th>LotShape</th>\n",
              "      <th>LandContour</th>\n",
              "      <th>Utilities</th>\n",
              "      <th>LotConfig</th>\n",
              "      <th>LandSlope</th>\n",
              "      <th>Neighborhood</th>\n",
              "      <th>Condition1</th>\n",
              "      <th>Condition2</th>\n",
              "      <th>BldgType</th>\n",
              "      <th>HouseStyle</th>\n",
              "      <th>OverallQual</th>\n",
              "      <th>OverallCond</th>\n",
              "      <th>YearBuilt</th>\n",
              "      <th>YearRemodAdd</th>\n",
              "      <th>RoofStyle</th>\n",
              "      <th>RoofMatl</th>\n",
              "      <th>Exterior1st</th>\n",
              "      <th>Exterior2nd</th>\n",
              "      <th>MasVnrType</th>\n",
              "      <th>MasVnrArea</th>\n",
              "      <th>ExterQual</th>\n",
              "      <th>ExterCond</th>\n",
              "      <th>Foundation</th>\n",
              "      <th>BsmtQual</th>\n",
              "      <th>BsmtCond</th>\n",
              "      <th>BsmtExposure</th>\n",
              "      <th>BsmtFinType1</th>\n",
              "      <th>BsmtFinSF1</th>\n",
              "      <th>BsmtFinType2</th>\n",
              "      <th>BsmtFinSF2</th>\n",
              "      <th>BsmtUnfSF</th>\n",
              "      <th>TotalBsmtSF</th>\n",
              "      <th>Heating</th>\n",
              "      <th>HeatingQC</th>\n",
              "      <th>CentralAir</th>\n",
              "      <th>Electrical</th>\n",
              "      <th>1stFlrSF</th>\n",
              "      <th>2ndFlrSF</th>\n",
              "      <th>LowQualFinSF</th>\n",
              "      <th>GrLivArea</th>\n",
              "      <th>BsmtFullBath</th>\n",
              "      <th>BsmtHalfBath</th>\n",
              "      <th>FullBath</th>\n",
              "      <th>HalfBath</th>\n",
              "      <th>BedroomAbvGr</th>\n",
              "      <th>KitchenAbvGr</th>\n",
              "      <th>KitchenQual</th>\n",
              "      <th>TotRmsAbvGrd</th>\n",
              "      <th>Functional</th>\n",
              "      <th>Fireplaces</th>\n",
              "      <th>FireplaceQu</th>\n",
              "      <th>GarageType</th>\n",
              "      <th>GarageYrBlt</th>\n",
              "      <th>GarageFinish</th>\n",
              "      <th>GarageCars</th>\n",
              "      <th>GarageArea</th>\n",
              "      <th>GarageQual</th>\n",
              "      <th>GarageCond</th>\n",
              "      <th>PavedDrive</th>\n",
              "      <th>WoodDeckSF</th>\n",
              "      <th>OpenPorchSF</th>\n",
              "      <th>EnclosedPorch</th>\n",
              "      <th>3SsnPorch</th>\n",
              "      <th>ScreenPorch</th>\n",
              "      <th>PoolArea</th>\n",
              "      <th>PoolQC</th>\n",
              "      <th>Fence</th>\n",
              "      <th>MiscFeature</th>\n",
              "      <th>MiscVal</th>\n",
              "      <th>MoSold</th>\n",
              "      <th>YrSold</th>\n",
              "      <th>SaleType</th>\n",
              "      <th>SaleCondition</th>\n",
              "    </tr>\n",
              "  </thead>\n",
              "  <tbody>\n",
              "    <tr>\n",
              "      <th>0</th>\n",
              "      <td>60</td>\n",
              "      <td>RL</td>\n",
              "      <td>65.0</td>\n",
              "      <td>8450</td>\n",
              "      <td>Pave</td>\n",
              "      <td>NaN</td>\n",
              "      <td>Reg</td>\n",
              "      <td>Lvl</td>\n",
              "      <td>AllPub</td>\n",
              "      <td>Inside</td>\n",
              "      <td>Gtl</td>\n",
              "      <td>CollgCr</td>\n",
              "      <td>Norm</td>\n",
              "      <td>Norm</td>\n",
              "      <td>1Fam</td>\n",
              "      <td>2Story</td>\n",
              "      <td>7</td>\n",
              "      <td>5</td>\n",
              "      <td>2003</td>\n",
              "      <td>2003</td>\n",
              "      <td>Gable</td>\n",
              "      <td>CompShg</td>\n",
              "      <td>VinylSd</td>\n",
              "      <td>VinylSd</td>\n",
              "      <td>BrkFace</td>\n",
              "      <td>196.0</td>\n",
              "      <td>Gd</td>\n",
              "      <td>TA</td>\n",
              "      <td>PConc</td>\n",
              "      <td>Gd</td>\n",
              "      <td>TA</td>\n",
              "      <td>No</td>\n",
              "      <td>GLQ</td>\n",
              "      <td>706.0</td>\n",
              "      <td>Unf</td>\n",
              "      <td>0.0</td>\n",
              "      <td>150.0</td>\n",
              "      <td>856.0</td>\n",
              "      <td>GasA</td>\n",
              "      <td>Ex</td>\n",
              "      <td>Y</td>\n",
              "      <td>SBrkr</td>\n",
              "      <td>856</td>\n",
              "      <td>854</td>\n",
              "      <td>0</td>\n",
              "      <td>1710</td>\n",
              "      <td>1.0</td>\n",
              "      <td>0.0</td>\n",
              "      <td>2</td>\n",
              "      <td>1</td>\n",
              "      <td>3</td>\n",
              "      <td>1</td>\n",
              "      <td>Gd</td>\n",
              "      <td>8</td>\n",
              "      <td>Typ</td>\n",
              "      <td>0</td>\n",
              "      <td>NaN</td>\n",
              "      <td>Attchd</td>\n",
              "      <td>2003.0</td>\n",
              "      <td>RFn</td>\n",
              "      <td>2.0</td>\n",
              "      <td>548.0</td>\n",
              "      <td>TA</td>\n",
              "      <td>TA</td>\n",
              "      <td>Y</td>\n",
              "      <td>0</td>\n",
              "      <td>61</td>\n",
              "      <td>0</td>\n",
              "      <td>0</td>\n",
              "      <td>0</td>\n",
              "      <td>0</td>\n",
              "      <td>NaN</td>\n",
              "      <td>NaN</td>\n",
              "      <td>NaN</td>\n",
              "      <td>0</td>\n",
              "      <td>2</td>\n",
              "      <td>2008</td>\n",
              "      <td>WD</td>\n",
              "      <td>Normal</td>\n",
              "    </tr>\n",
              "    <tr>\n",
              "      <th>1</th>\n",
              "      <td>20</td>\n",
              "      <td>RL</td>\n",
              "      <td>80.0</td>\n",
              "      <td>9600</td>\n",
              "      <td>Pave</td>\n",
              "      <td>NaN</td>\n",
              "      <td>Reg</td>\n",
              "      <td>Lvl</td>\n",
              "      <td>AllPub</td>\n",
              "      <td>FR2</td>\n",
              "      <td>Gtl</td>\n",
              "      <td>Veenker</td>\n",
              "      <td>Feedr</td>\n",
              "      <td>Norm</td>\n",
              "      <td>1Fam</td>\n",
              "      <td>1Story</td>\n",
              "      <td>6</td>\n",
              "      <td>8</td>\n",
              "      <td>1976</td>\n",
              "      <td>1976</td>\n",
              "      <td>Gable</td>\n",
              "      <td>CompShg</td>\n",
              "      <td>MetalSd</td>\n",
              "      <td>MetalSd</td>\n",
              "      <td>None</td>\n",
              "      <td>0.0</td>\n",
              "      <td>TA</td>\n",
              "      <td>TA</td>\n",
              "      <td>CBlock</td>\n",
              "      <td>Gd</td>\n",
              "      <td>TA</td>\n",
              "      <td>Gd</td>\n",
              "      <td>ALQ</td>\n",
              "      <td>978.0</td>\n",
              "      <td>Unf</td>\n",
              "      <td>0.0</td>\n",
              "      <td>284.0</td>\n",
              "      <td>1262.0</td>\n",
              "      <td>GasA</td>\n",
              "      <td>Ex</td>\n",
              "      <td>Y</td>\n",
              "      <td>SBrkr</td>\n",
              "      <td>1262</td>\n",
              "      <td>0</td>\n",
              "      <td>0</td>\n",
              "      <td>1262</td>\n",
              "      <td>0.0</td>\n",
              "      <td>1.0</td>\n",
              "      <td>2</td>\n",
              "      <td>0</td>\n",
              "      <td>3</td>\n",
              "      <td>1</td>\n",
              "      <td>TA</td>\n",
              "      <td>6</td>\n",
              "      <td>Typ</td>\n",
              "      <td>1</td>\n",
              "      <td>TA</td>\n",
              "      <td>Attchd</td>\n",
              "      <td>1976.0</td>\n",
              "      <td>RFn</td>\n",
              "      <td>2.0</td>\n",
              "      <td>460.0</td>\n",
              "      <td>TA</td>\n",
              "      <td>TA</td>\n",
              "      <td>Y</td>\n",
              "      <td>298</td>\n",
              "      <td>0</td>\n",
              "      <td>0</td>\n",
              "      <td>0</td>\n",
              "      <td>0</td>\n",
              "      <td>0</td>\n",
              "      <td>NaN</td>\n",
              "      <td>NaN</td>\n",
              "      <td>NaN</td>\n",
              "      <td>0</td>\n",
              "      <td>5</td>\n",
              "      <td>2007</td>\n",
              "      <td>WD</td>\n",
              "      <td>Normal</td>\n",
              "    </tr>\n",
              "    <tr>\n",
              "      <th>2</th>\n",
              "      <td>60</td>\n",
              "      <td>RL</td>\n",
              "      <td>68.0</td>\n",
              "      <td>11250</td>\n",
              "      <td>Pave</td>\n",
              "      <td>NaN</td>\n",
              "      <td>IR1</td>\n",
              "      <td>Lvl</td>\n",
              "      <td>AllPub</td>\n",
              "      <td>Inside</td>\n",
              "      <td>Gtl</td>\n",
              "      <td>CollgCr</td>\n",
              "      <td>Norm</td>\n",
              "      <td>Norm</td>\n",
              "      <td>1Fam</td>\n",
              "      <td>2Story</td>\n",
              "      <td>7</td>\n",
              "      <td>5</td>\n",
              "      <td>2001</td>\n",
              "      <td>2002</td>\n",
              "      <td>Gable</td>\n",
              "      <td>CompShg</td>\n",
              "      <td>VinylSd</td>\n",
              "      <td>VinylSd</td>\n",
              "      <td>BrkFace</td>\n",
              "      <td>162.0</td>\n",
              "      <td>Gd</td>\n",
              "      <td>TA</td>\n",
              "      <td>PConc</td>\n",
              "      <td>Gd</td>\n",
              "      <td>TA</td>\n",
              "      <td>Mn</td>\n",
              "      <td>GLQ</td>\n",
              "      <td>486.0</td>\n",
              "      <td>Unf</td>\n",
              "      <td>0.0</td>\n",
              "      <td>434.0</td>\n",
              "      <td>920.0</td>\n",
              "      <td>GasA</td>\n",
              "      <td>Ex</td>\n",
              "      <td>Y</td>\n",
              "      <td>SBrkr</td>\n",
              "      <td>920</td>\n",
              "      <td>866</td>\n",
              "      <td>0</td>\n",
              "      <td>1786</td>\n",
              "      <td>1.0</td>\n",
              "      <td>0.0</td>\n",
              "      <td>2</td>\n",
              "      <td>1</td>\n",
              "      <td>3</td>\n",
              "      <td>1</td>\n",
              "      <td>Gd</td>\n",
              "      <td>6</td>\n",
              "      <td>Typ</td>\n",
              "      <td>1</td>\n",
              "      <td>TA</td>\n",
              "      <td>Attchd</td>\n",
              "      <td>2001.0</td>\n",
              "      <td>RFn</td>\n",
              "      <td>2.0</td>\n",
              "      <td>608.0</td>\n",
              "      <td>TA</td>\n",
              "      <td>TA</td>\n",
              "      <td>Y</td>\n",
              "      <td>0</td>\n",
              "      <td>42</td>\n",
              "      <td>0</td>\n",
              "      <td>0</td>\n",
              "      <td>0</td>\n",
              "      <td>0</td>\n",
              "      <td>NaN</td>\n",
              "      <td>NaN</td>\n",
              "      <td>NaN</td>\n",
              "      <td>0</td>\n",
              "      <td>9</td>\n",
              "      <td>2008</td>\n",
              "      <td>WD</td>\n",
              "      <td>Normal</td>\n",
              "    </tr>\n",
              "    <tr>\n",
              "      <th>3</th>\n",
              "      <td>70</td>\n",
              "      <td>RL</td>\n",
              "      <td>60.0</td>\n",
              "      <td>9550</td>\n",
              "      <td>Pave</td>\n",
              "      <td>NaN</td>\n",
              "      <td>IR1</td>\n",
              "      <td>Lvl</td>\n",
              "      <td>AllPub</td>\n",
              "      <td>Corner</td>\n",
              "      <td>Gtl</td>\n",
              "      <td>Crawfor</td>\n",
              "      <td>Norm</td>\n",
              "      <td>Norm</td>\n",
              "      <td>1Fam</td>\n",
              "      <td>2Story</td>\n",
              "      <td>7</td>\n",
              "      <td>5</td>\n",
              "      <td>1915</td>\n",
              "      <td>1970</td>\n",
              "      <td>Gable</td>\n",
              "      <td>CompShg</td>\n",
              "      <td>Wd Sdng</td>\n",
              "      <td>Wd Shng</td>\n",
              "      <td>None</td>\n",
              "      <td>0.0</td>\n",
              "      <td>TA</td>\n",
              "      <td>TA</td>\n",
              "      <td>BrkTil</td>\n",
              "      <td>TA</td>\n",
              "      <td>Gd</td>\n",
              "      <td>No</td>\n",
              "      <td>ALQ</td>\n",
              "      <td>216.0</td>\n",
              "      <td>Unf</td>\n",
              "      <td>0.0</td>\n",
              "      <td>540.0</td>\n",
              "      <td>756.0</td>\n",
              "      <td>GasA</td>\n",
              "      <td>Gd</td>\n",
              "      <td>Y</td>\n",
              "      <td>SBrkr</td>\n",
              "      <td>961</td>\n",
              "      <td>756</td>\n",
              "      <td>0</td>\n",
              "      <td>1717</td>\n",
              "      <td>1.0</td>\n",
              "      <td>0.0</td>\n",
              "      <td>1</td>\n",
              "      <td>0</td>\n",
              "      <td>3</td>\n",
              "      <td>1</td>\n",
              "      <td>Gd</td>\n",
              "      <td>7</td>\n",
              "      <td>Typ</td>\n",
              "      <td>1</td>\n",
              "      <td>Gd</td>\n",
              "      <td>Detchd</td>\n",
              "      <td>1998.0</td>\n",
              "      <td>Unf</td>\n",
              "      <td>3.0</td>\n",
              "      <td>642.0</td>\n",
              "      <td>TA</td>\n",
              "      <td>TA</td>\n",
              "      <td>Y</td>\n",
              "      <td>0</td>\n",
              "      <td>35</td>\n",
              "      <td>272</td>\n",
              "      <td>0</td>\n",
              "      <td>0</td>\n",
              "      <td>0</td>\n",
              "      <td>NaN</td>\n",
              "      <td>NaN</td>\n",
              "      <td>NaN</td>\n",
              "      <td>0</td>\n",
              "      <td>2</td>\n",
              "      <td>2006</td>\n",
              "      <td>WD</td>\n",
              "      <td>Abnorml</td>\n",
              "    </tr>\n",
              "    <tr>\n",
              "      <th>4</th>\n",
              "      <td>60</td>\n",
              "      <td>RL</td>\n",
              "      <td>84.0</td>\n",
              "      <td>14260</td>\n",
              "      <td>Pave</td>\n",
              "      <td>NaN</td>\n",
              "      <td>IR1</td>\n",
              "      <td>Lvl</td>\n",
              "      <td>AllPub</td>\n",
              "      <td>FR2</td>\n",
              "      <td>Gtl</td>\n",
              "      <td>NoRidge</td>\n",
              "      <td>Norm</td>\n",
              "      <td>Norm</td>\n",
              "      <td>1Fam</td>\n",
              "      <td>2Story</td>\n",
              "      <td>8</td>\n",
              "      <td>5</td>\n",
              "      <td>2000</td>\n",
              "      <td>2000</td>\n",
              "      <td>Gable</td>\n",
              "      <td>CompShg</td>\n",
              "      <td>VinylSd</td>\n",
              "      <td>VinylSd</td>\n",
              "      <td>BrkFace</td>\n",
              "      <td>350.0</td>\n",
              "      <td>Gd</td>\n",
              "      <td>TA</td>\n",
              "      <td>PConc</td>\n",
              "      <td>Gd</td>\n",
              "      <td>TA</td>\n",
              "      <td>Av</td>\n",
              "      <td>GLQ</td>\n",
              "      <td>655.0</td>\n",
              "      <td>Unf</td>\n",
              "      <td>0.0</td>\n",
              "      <td>490.0</td>\n",
              "      <td>1145.0</td>\n",
              "      <td>GasA</td>\n",
              "      <td>Ex</td>\n",
              "      <td>Y</td>\n",
              "      <td>SBrkr</td>\n",
              "      <td>1145</td>\n",
              "      <td>1053</td>\n",
              "      <td>0</td>\n",
              "      <td>2198</td>\n",
              "      <td>1.0</td>\n",
              "      <td>0.0</td>\n",
              "      <td>2</td>\n",
              "      <td>1</td>\n",
              "      <td>4</td>\n",
              "      <td>1</td>\n",
              "      <td>Gd</td>\n",
              "      <td>9</td>\n",
              "      <td>Typ</td>\n",
              "      <td>1</td>\n",
              "      <td>TA</td>\n",
              "      <td>Attchd</td>\n",
              "      <td>2000.0</td>\n",
              "      <td>RFn</td>\n",
              "      <td>3.0</td>\n",
              "      <td>836.0</td>\n",
              "      <td>TA</td>\n",
              "      <td>TA</td>\n",
              "      <td>Y</td>\n",
              "      <td>192</td>\n",
              "      <td>84</td>\n",
              "      <td>0</td>\n",
              "      <td>0</td>\n",
              "      <td>0</td>\n",
              "      <td>0</td>\n",
              "      <td>NaN</td>\n",
              "      <td>NaN</td>\n",
              "      <td>NaN</td>\n",
              "      <td>0</td>\n",
              "      <td>12</td>\n",
              "      <td>2008</td>\n",
              "      <td>WD</td>\n",
              "      <td>Normal</td>\n",
              "    </tr>\n",
              "    <tr>\n",
              "      <th>...</th>\n",
              "      <td>...</td>\n",
              "      <td>...</td>\n",
              "      <td>...</td>\n",
              "      <td>...</td>\n",
              "      <td>...</td>\n",
              "      <td>...</td>\n",
              "      <td>...</td>\n",
              "      <td>...</td>\n",
              "      <td>...</td>\n",
              "      <td>...</td>\n",
              "      <td>...</td>\n",
              "      <td>...</td>\n",
              "      <td>...</td>\n",
              "      <td>...</td>\n",
              "      <td>...</td>\n",
              "      <td>...</td>\n",
              "      <td>...</td>\n",
              "      <td>...</td>\n",
              "      <td>...</td>\n",
              "      <td>...</td>\n",
              "      <td>...</td>\n",
              "      <td>...</td>\n",
              "      <td>...</td>\n",
              "      <td>...</td>\n",
              "      <td>...</td>\n",
              "      <td>...</td>\n",
              "      <td>...</td>\n",
              "      <td>...</td>\n",
              "      <td>...</td>\n",
              "      <td>...</td>\n",
              "      <td>...</td>\n",
              "      <td>...</td>\n",
              "      <td>...</td>\n",
              "      <td>...</td>\n",
              "      <td>...</td>\n",
              "      <td>...</td>\n",
              "      <td>...</td>\n",
              "      <td>...</td>\n",
              "      <td>...</td>\n",
              "      <td>...</td>\n",
              "      <td>...</td>\n",
              "      <td>...</td>\n",
              "      <td>...</td>\n",
              "      <td>...</td>\n",
              "      <td>...</td>\n",
              "      <td>...</td>\n",
              "      <td>...</td>\n",
              "      <td>...</td>\n",
              "      <td>...</td>\n",
              "      <td>...</td>\n",
              "      <td>...</td>\n",
              "      <td>...</td>\n",
              "      <td>...</td>\n",
              "      <td>...</td>\n",
              "      <td>...</td>\n",
              "      <td>...</td>\n",
              "      <td>...</td>\n",
              "      <td>...</td>\n",
              "      <td>...</td>\n",
              "      <td>...</td>\n",
              "      <td>...</td>\n",
              "      <td>...</td>\n",
              "      <td>...</td>\n",
              "      <td>...</td>\n",
              "      <td>...</td>\n",
              "      <td>...</td>\n",
              "      <td>...</td>\n",
              "      <td>...</td>\n",
              "      <td>...</td>\n",
              "      <td>...</td>\n",
              "      <td>...</td>\n",
              "      <td>...</td>\n",
              "      <td>...</td>\n",
              "      <td>...</td>\n",
              "      <td>...</td>\n",
              "      <td>...</td>\n",
              "      <td>...</td>\n",
              "      <td>...</td>\n",
              "      <td>...</td>\n",
              "    </tr>\n",
              "    <tr>\n",
              "      <th>2914</th>\n",
              "      <td>160</td>\n",
              "      <td>RM</td>\n",
              "      <td>21.0</td>\n",
              "      <td>1936</td>\n",
              "      <td>Pave</td>\n",
              "      <td>NaN</td>\n",
              "      <td>Reg</td>\n",
              "      <td>Lvl</td>\n",
              "      <td>AllPub</td>\n",
              "      <td>Inside</td>\n",
              "      <td>Gtl</td>\n",
              "      <td>MeadowV</td>\n",
              "      <td>Norm</td>\n",
              "      <td>Norm</td>\n",
              "      <td>Twnhs</td>\n",
              "      <td>2Story</td>\n",
              "      <td>4</td>\n",
              "      <td>7</td>\n",
              "      <td>1970</td>\n",
              "      <td>1970</td>\n",
              "      <td>Gable</td>\n",
              "      <td>CompShg</td>\n",
              "      <td>CemntBd</td>\n",
              "      <td>CmentBd</td>\n",
              "      <td>None</td>\n",
              "      <td>0.0</td>\n",
              "      <td>TA</td>\n",
              "      <td>TA</td>\n",
              "      <td>CBlock</td>\n",
              "      <td>TA</td>\n",
              "      <td>TA</td>\n",
              "      <td>No</td>\n",
              "      <td>Unf</td>\n",
              "      <td>0.0</td>\n",
              "      <td>Unf</td>\n",
              "      <td>0.0</td>\n",
              "      <td>546.0</td>\n",
              "      <td>546.0</td>\n",
              "      <td>GasA</td>\n",
              "      <td>Gd</td>\n",
              "      <td>Y</td>\n",
              "      <td>SBrkr</td>\n",
              "      <td>546</td>\n",
              "      <td>546</td>\n",
              "      <td>0</td>\n",
              "      <td>1092</td>\n",
              "      <td>0.0</td>\n",
              "      <td>0.0</td>\n",
              "      <td>1</td>\n",
              "      <td>1</td>\n",
              "      <td>3</td>\n",
              "      <td>1</td>\n",
              "      <td>TA</td>\n",
              "      <td>5</td>\n",
              "      <td>Typ</td>\n",
              "      <td>0</td>\n",
              "      <td>NaN</td>\n",
              "      <td>NaN</td>\n",
              "      <td>NaN</td>\n",
              "      <td>NaN</td>\n",
              "      <td>0.0</td>\n",
              "      <td>0.0</td>\n",
              "      <td>NaN</td>\n",
              "      <td>NaN</td>\n",
              "      <td>Y</td>\n",
              "      <td>0</td>\n",
              "      <td>0</td>\n",
              "      <td>0</td>\n",
              "      <td>0</td>\n",
              "      <td>0</td>\n",
              "      <td>0</td>\n",
              "      <td>NaN</td>\n",
              "      <td>NaN</td>\n",
              "      <td>NaN</td>\n",
              "      <td>0</td>\n",
              "      <td>6</td>\n",
              "      <td>2006</td>\n",
              "      <td>WD</td>\n",
              "      <td>Normal</td>\n",
              "    </tr>\n",
              "    <tr>\n",
              "      <th>2915</th>\n",
              "      <td>160</td>\n",
              "      <td>RM</td>\n",
              "      <td>21.0</td>\n",
              "      <td>1894</td>\n",
              "      <td>Pave</td>\n",
              "      <td>NaN</td>\n",
              "      <td>Reg</td>\n",
              "      <td>Lvl</td>\n",
              "      <td>AllPub</td>\n",
              "      <td>Inside</td>\n",
              "      <td>Gtl</td>\n",
              "      <td>MeadowV</td>\n",
              "      <td>Norm</td>\n",
              "      <td>Norm</td>\n",
              "      <td>TwnhsE</td>\n",
              "      <td>2Story</td>\n",
              "      <td>4</td>\n",
              "      <td>5</td>\n",
              "      <td>1970</td>\n",
              "      <td>1970</td>\n",
              "      <td>Gable</td>\n",
              "      <td>CompShg</td>\n",
              "      <td>CemntBd</td>\n",
              "      <td>CmentBd</td>\n",
              "      <td>None</td>\n",
              "      <td>0.0</td>\n",
              "      <td>TA</td>\n",
              "      <td>TA</td>\n",
              "      <td>CBlock</td>\n",
              "      <td>TA</td>\n",
              "      <td>TA</td>\n",
              "      <td>No</td>\n",
              "      <td>Rec</td>\n",
              "      <td>252.0</td>\n",
              "      <td>Unf</td>\n",
              "      <td>0.0</td>\n",
              "      <td>294.0</td>\n",
              "      <td>546.0</td>\n",
              "      <td>GasA</td>\n",
              "      <td>TA</td>\n",
              "      <td>Y</td>\n",
              "      <td>SBrkr</td>\n",
              "      <td>546</td>\n",
              "      <td>546</td>\n",
              "      <td>0</td>\n",
              "      <td>1092</td>\n",
              "      <td>0.0</td>\n",
              "      <td>0.0</td>\n",
              "      <td>1</td>\n",
              "      <td>1</td>\n",
              "      <td>3</td>\n",
              "      <td>1</td>\n",
              "      <td>TA</td>\n",
              "      <td>6</td>\n",
              "      <td>Typ</td>\n",
              "      <td>0</td>\n",
              "      <td>NaN</td>\n",
              "      <td>CarPort</td>\n",
              "      <td>1970.0</td>\n",
              "      <td>Unf</td>\n",
              "      <td>1.0</td>\n",
              "      <td>286.0</td>\n",
              "      <td>TA</td>\n",
              "      <td>TA</td>\n",
              "      <td>Y</td>\n",
              "      <td>0</td>\n",
              "      <td>24</td>\n",
              "      <td>0</td>\n",
              "      <td>0</td>\n",
              "      <td>0</td>\n",
              "      <td>0</td>\n",
              "      <td>NaN</td>\n",
              "      <td>NaN</td>\n",
              "      <td>NaN</td>\n",
              "      <td>0</td>\n",
              "      <td>4</td>\n",
              "      <td>2006</td>\n",
              "      <td>WD</td>\n",
              "      <td>Abnorml</td>\n",
              "    </tr>\n",
              "    <tr>\n",
              "      <th>2916</th>\n",
              "      <td>20</td>\n",
              "      <td>RL</td>\n",
              "      <td>160.0</td>\n",
              "      <td>20000</td>\n",
              "      <td>Pave</td>\n",
              "      <td>NaN</td>\n",
              "      <td>Reg</td>\n",
              "      <td>Lvl</td>\n",
              "      <td>AllPub</td>\n",
              "      <td>Inside</td>\n",
              "      <td>Gtl</td>\n",
              "      <td>Mitchel</td>\n",
              "      <td>Norm</td>\n",
              "      <td>Norm</td>\n",
              "      <td>1Fam</td>\n",
              "      <td>1Story</td>\n",
              "      <td>5</td>\n",
              "      <td>7</td>\n",
              "      <td>1960</td>\n",
              "      <td>1996</td>\n",
              "      <td>Gable</td>\n",
              "      <td>CompShg</td>\n",
              "      <td>VinylSd</td>\n",
              "      <td>VinylSd</td>\n",
              "      <td>None</td>\n",
              "      <td>0.0</td>\n",
              "      <td>TA</td>\n",
              "      <td>TA</td>\n",
              "      <td>CBlock</td>\n",
              "      <td>TA</td>\n",
              "      <td>TA</td>\n",
              "      <td>No</td>\n",
              "      <td>ALQ</td>\n",
              "      <td>1224.0</td>\n",
              "      <td>Unf</td>\n",
              "      <td>0.0</td>\n",
              "      <td>0.0</td>\n",
              "      <td>1224.0</td>\n",
              "      <td>GasA</td>\n",
              "      <td>Ex</td>\n",
              "      <td>Y</td>\n",
              "      <td>SBrkr</td>\n",
              "      <td>1224</td>\n",
              "      <td>0</td>\n",
              "      <td>0</td>\n",
              "      <td>1224</td>\n",
              "      <td>1.0</td>\n",
              "      <td>0.0</td>\n",
              "      <td>1</td>\n",
              "      <td>0</td>\n",
              "      <td>4</td>\n",
              "      <td>1</td>\n",
              "      <td>TA</td>\n",
              "      <td>7</td>\n",
              "      <td>Typ</td>\n",
              "      <td>1</td>\n",
              "      <td>TA</td>\n",
              "      <td>Detchd</td>\n",
              "      <td>1960.0</td>\n",
              "      <td>Unf</td>\n",
              "      <td>2.0</td>\n",
              "      <td>576.0</td>\n",
              "      <td>TA</td>\n",
              "      <td>TA</td>\n",
              "      <td>Y</td>\n",
              "      <td>474</td>\n",
              "      <td>0</td>\n",
              "      <td>0</td>\n",
              "      <td>0</td>\n",
              "      <td>0</td>\n",
              "      <td>0</td>\n",
              "      <td>NaN</td>\n",
              "      <td>NaN</td>\n",
              "      <td>NaN</td>\n",
              "      <td>0</td>\n",
              "      <td>9</td>\n",
              "      <td>2006</td>\n",
              "      <td>WD</td>\n",
              "      <td>Abnorml</td>\n",
              "    </tr>\n",
              "    <tr>\n",
              "      <th>2917</th>\n",
              "      <td>85</td>\n",
              "      <td>RL</td>\n",
              "      <td>62.0</td>\n",
              "      <td>10441</td>\n",
              "      <td>Pave</td>\n",
              "      <td>NaN</td>\n",
              "      <td>Reg</td>\n",
              "      <td>Lvl</td>\n",
              "      <td>AllPub</td>\n",
              "      <td>Inside</td>\n",
              "      <td>Gtl</td>\n",
              "      <td>Mitchel</td>\n",
              "      <td>Norm</td>\n",
              "      <td>Norm</td>\n",
              "      <td>1Fam</td>\n",
              "      <td>SFoyer</td>\n",
              "      <td>5</td>\n",
              "      <td>5</td>\n",
              "      <td>1992</td>\n",
              "      <td>1992</td>\n",
              "      <td>Gable</td>\n",
              "      <td>CompShg</td>\n",
              "      <td>HdBoard</td>\n",
              "      <td>Wd Shng</td>\n",
              "      <td>None</td>\n",
              "      <td>0.0</td>\n",
              "      <td>TA</td>\n",
              "      <td>TA</td>\n",
              "      <td>PConc</td>\n",
              "      <td>Gd</td>\n",
              "      <td>TA</td>\n",
              "      <td>Av</td>\n",
              "      <td>GLQ</td>\n",
              "      <td>337.0</td>\n",
              "      <td>Unf</td>\n",
              "      <td>0.0</td>\n",
              "      <td>575.0</td>\n",
              "      <td>912.0</td>\n",
              "      <td>GasA</td>\n",
              "      <td>TA</td>\n",
              "      <td>Y</td>\n",
              "      <td>SBrkr</td>\n",
              "      <td>970</td>\n",
              "      <td>0</td>\n",
              "      <td>0</td>\n",
              "      <td>970</td>\n",
              "      <td>0.0</td>\n",
              "      <td>1.0</td>\n",
              "      <td>1</td>\n",
              "      <td>0</td>\n",
              "      <td>3</td>\n",
              "      <td>1</td>\n",
              "      <td>TA</td>\n",
              "      <td>6</td>\n",
              "      <td>Typ</td>\n",
              "      <td>0</td>\n",
              "      <td>NaN</td>\n",
              "      <td>NaN</td>\n",
              "      <td>NaN</td>\n",
              "      <td>NaN</td>\n",
              "      <td>0.0</td>\n",
              "      <td>0.0</td>\n",
              "      <td>NaN</td>\n",
              "      <td>NaN</td>\n",
              "      <td>Y</td>\n",
              "      <td>80</td>\n",
              "      <td>32</td>\n",
              "      <td>0</td>\n",
              "      <td>0</td>\n",
              "      <td>0</td>\n",
              "      <td>0</td>\n",
              "      <td>NaN</td>\n",
              "      <td>MnPrv</td>\n",
              "      <td>Shed</td>\n",
              "      <td>700</td>\n",
              "      <td>7</td>\n",
              "      <td>2006</td>\n",
              "      <td>WD</td>\n",
              "      <td>Normal</td>\n",
              "    </tr>\n",
              "    <tr>\n",
              "      <th>2918</th>\n",
              "      <td>60</td>\n",
              "      <td>RL</td>\n",
              "      <td>74.0</td>\n",
              "      <td>9627</td>\n",
              "      <td>Pave</td>\n",
              "      <td>NaN</td>\n",
              "      <td>Reg</td>\n",
              "      <td>Lvl</td>\n",
              "      <td>AllPub</td>\n",
              "      <td>Inside</td>\n",
              "      <td>Mod</td>\n",
              "      <td>Mitchel</td>\n",
              "      <td>Norm</td>\n",
              "      <td>Norm</td>\n",
              "      <td>1Fam</td>\n",
              "      <td>2Story</td>\n",
              "      <td>7</td>\n",
              "      <td>5</td>\n",
              "      <td>1993</td>\n",
              "      <td>1994</td>\n",
              "      <td>Gable</td>\n",
              "      <td>CompShg</td>\n",
              "      <td>HdBoard</td>\n",
              "      <td>HdBoard</td>\n",
              "      <td>BrkFace</td>\n",
              "      <td>94.0</td>\n",
              "      <td>TA</td>\n",
              "      <td>TA</td>\n",
              "      <td>PConc</td>\n",
              "      <td>Gd</td>\n",
              "      <td>TA</td>\n",
              "      <td>Av</td>\n",
              "      <td>LwQ</td>\n",
              "      <td>758.0</td>\n",
              "      <td>Unf</td>\n",
              "      <td>0.0</td>\n",
              "      <td>238.0</td>\n",
              "      <td>996.0</td>\n",
              "      <td>GasA</td>\n",
              "      <td>Ex</td>\n",
              "      <td>Y</td>\n",
              "      <td>SBrkr</td>\n",
              "      <td>996</td>\n",
              "      <td>1004</td>\n",
              "      <td>0</td>\n",
              "      <td>2000</td>\n",
              "      <td>0.0</td>\n",
              "      <td>0.0</td>\n",
              "      <td>2</td>\n",
              "      <td>1</td>\n",
              "      <td>3</td>\n",
              "      <td>1</td>\n",
              "      <td>TA</td>\n",
              "      <td>9</td>\n",
              "      <td>Typ</td>\n",
              "      <td>1</td>\n",
              "      <td>TA</td>\n",
              "      <td>Attchd</td>\n",
              "      <td>1993.0</td>\n",
              "      <td>Fin</td>\n",
              "      <td>3.0</td>\n",
              "      <td>650.0</td>\n",
              "      <td>TA</td>\n",
              "      <td>TA</td>\n",
              "      <td>Y</td>\n",
              "      <td>190</td>\n",
              "      <td>48</td>\n",
              "      <td>0</td>\n",
              "      <td>0</td>\n",
              "      <td>0</td>\n",
              "      <td>0</td>\n",
              "      <td>NaN</td>\n",
              "      <td>NaN</td>\n",
              "      <td>NaN</td>\n",
              "      <td>0</td>\n",
              "      <td>11</td>\n",
              "      <td>2006</td>\n",
              "      <td>WD</td>\n",
              "      <td>Normal</td>\n",
              "    </tr>\n",
              "  </tbody>\n",
              "</table>\n",
              "<p>2919 rows × 79 columns</p>\n",
              "</div>\n",
              "      <button class=\"colab-df-convert\" onclick=\"convertToInteractive('df-c2abc59d-e4a3-455f-901e-1f487c1b8d9b')\"\n",
              "              title=\"Convert this dataframe to an interactive table.\"\n",
              "              style=\"display:none;\">\n",
              "        \n",
              "  <svg xmlns=\"http://www.w3.org/2000/svg\" height=\"24px\"viewBox=\"0 0 24 24\"\n",
              "       width=\"24px\">\n",
              "    <path d=\"M0 0h24v24H0V0z\" fill=\"none\"/>\n",
              "    <path d=\"M18.56 5.44l.94 2.06.94-2.06 2.06-.94-2.06-.94-.94-2.06-.94 2.06-2.06.94zm-11 1L8.5 8.5l.94-2.06 2.06-.94-2.06-.94L8.5 2.5l-.94 2.06-2.06.94zm10 10l.94 2.06.94-2.06 2.06-.94-2.06-.94-.94-2.06-.94 2.06-2.06.94z\"/><path d=\"M17.41 7.96l-1.37-1.37c-.4-.4-.92-.59-1.43-.59-.52 0-1.04.2-1.43.59L10.3 9.45l-7.72 7.72c-.78.78-.78 2.05 0 2.83L4 21.41c.39.39.9.59 1.41.59.51 0 1.02-.2 1.41-.59l7.78-7.78 2.81-2.81c.8-.78.8-2.07 0-2.86zM5.41 20L4 18.59l7.72-7.72 1.47 1.35L5.41 20z\"/>\n",
              "  </svg>\n",
              "      </button>\n",
              "      \n",
              "  <style>\n",
              "    .colab-df-container {\n",
              "      display:flex;\n",
              "      flex-wrap:wrap;\n",
              "      gap: 12px;\n",
              "    }\n",
              "\n",
              "    .colab-df-convert {\n",
              "      background-color: #E8F0FE;\n",
              "      border: none;\n",
              "      border-radius: 50%;\n",
              "      cursor: pointer;\n",
              "      display: none;\n",
              "      fill: #1967D2;\n",
              "      height: 32px;\n",
              "      padding: 0 0 0 0;\n",
              "      width: 32px;\n",
              "    }\n",
              "\n",
              "    .colab-df-convert:hover {\n",
              "      background-color: #E2EBFA;\n",
              "      box-shadow: 0px 1px 2px rgba(60, 64, 67, 0.3), 0px 1px 3px 1px rgba(60, 64, 67, 0.15);\n",
              "      fill: #174EA6;\n",
              "    }\n",
              "\n",
              "    [theme=dark] .colab-df-convert {\n",
              "      background-color: #3B4455;\n",
              "      fill: #D2E3FC;\n",
              "    }\n",
              "\n",
              "    [theme=dark] .colab-df-convert:hover {\n",
              "      background-color: #434B5C;\n",
              "      box-shadow: 0px 1px 3px 1px rgba(0, 0, 0, 0.15);\n",
              "      filter: drop-shadow(0px 1px 2px rgba(0, 0, 0, 0.3));\n",
              "      fill: #FFFFFF;\n",
              "    }\n",
              "  </style>\n",
              "\n",
              "      <script>\n",
              "        const buttonEl =\n",
              "          document.querySelector('#df-c2abc59d-e4a3-455f-901e-1f487c1b8d9b button.colab-df-convert');\n",
              "        buttonEl.style.display =\n",
              "          google.colab.kernel.accessAllowed ? 'block' : 'none';\n",
              "\n",
              "        async function convertToInteractive(key) {\n",
              "          const element = document.querySelector('#df-c2abc59d-e4a3-455f-901e-1f487c1b8d9b');\n",
              "          const dataTable =\n",
              "            await google.colab.kernel.invokeFunction('convertToInteractive',\n",
              "                                                     [key], {});\n",
              "          if (!dataTable) return;\n",
              "\n",
              "          const docLinkHtml = 'Like what you see? Visit the ' +\n",
              "            '<a target=\"_blank\" href=https://colab.research.google.com/notebooks/data_table.ipynb>data table notebook</a>'\n",
              "            + ' to learn more about interactive tables.';\n",
              "          element.innerHTML = '';\n",
              "          dataTable['output_type'] = 'display_data';\n",
              "          await google.colab.output.renderOutput(dataTable, element);\n",
              "          const docLink = document.createElement('div');\n",
              "          docLink.innerHTML = docLinkHtml;\n",
              "          element.appendChild(docLink);\n",
              "        }\n",
              "      </script>\n",
              "    </div>\n",
              "  </div>\n",
              "  "
            ]
          },
          "metadata": {},
          "execution_count": 5
        }
      ],
      "source": [
        "alldf = pd.concat([traindf, testdf], axis=0, ignore_index=True)\n",
        "alldf = alldf.drop([\"Id\", \"SalePrice\"], axis = 1)\n",
        "\n",
        "alldf"
      ]
    },
    {
      "cell_type": "markdown",
      "metadata": {
        "id": "VuVvAHOFoqhE"
      },
      "source": [
        "# 補缺失值"
      ]
    },
    {
      "cell_type": "markdown",
      "source": [
        "## 數值資料"
      ],
      "metadata": {
        "id": "nPXPTQh26F6w"
      }
    },
    {
      "cell_type": "code",
      "execution_count": null,
      "metadata": {
        "id": "oY2v1ubJpXbl",
        "colab": {
          "base_uri": "https://localhost:8080/"
        },
        "outputId": "cd24df21-090e-4138-f9cd-8bf5749944a0"
      },
      "outputs": [
        {
          "output_type": "execute_result",
          "data": {
            "text/plain": [
              "'\\n數值類型資料以中位數填補缺失值\\nLotFrontage(臨街距離)-486、MasVnrArea(砌築貼面面積)-23、\\nGarageYrBlt(車庫建造年)-159、GarageCars(車庫可容納車數)-1、\\nGarageArea(車庫面積)-1\\n'"
            ],
            "application/vnd.google.colaboratory.intrinsic+json": {
              "type": "string"
            }
          },
          "metadata": {},
          "execution_count": 6
        }
      ],
      "source": [
        "\"\"\"\n",
        "數值類型資料以中位數填補缺失值\n",
        "LotFrontage(臨街距離)-486、MasVnrArea(砌築貼面面積)-23、\n",
        "GarageYrBlt(車庫建造年)-159、GarageCars(車庫可容納車數)-1、\n",
        "GarageArea(車庫面積)-1\n",
        "\"\"\""
      ]
    },
    {
      "cell_type": "code",
      "execution_count": null,
      "metadata": {
        "id": "nufLTdwYrIxj",
        "colab": {
          "base_uri": "https://localhost:8080/"
        },
        "outputId": "c7551a98-9bb7-415f-8f22-466b7e021095"
      },
      "outputs": [
        {
          "output_type": "stream",
          "name": "stderr",
          "text": [
            "<ipython-input-7-e821dc88078a>:1: FutureWarning: Dropping of nuisance columns in DataFrame reductions (with 'numeric_only=None') is deprecated; in a future version this will raise TypeError.  Select only valid columns before calling the reduction.\n",
            "  med = alldf.median()\n"
          ]
        }
      ],
      "source": [
        "med = alldf.median()\n",
        "alldf =  alldf.fillna(med)"
      ]
    },
    {
      "cell_type": "markdown",
      "source": [
        "## 類別資料"
      ],
      "metadata": {
        "id": "fqa_Oa2J6MlT"
      }
    },
    {
      "cell_type": "code",
      "execution_count": null,
      "metadata": {
        "id": "I9x2ZSXenZ_F"
      },
      "outputs": [],
      "source": [
        "# 土地使用分區\n",
        "\n",
        "m = alldf[\"MSZoning\"].value_counts().idxmax()  # 找到最多值的土地使用分區類型\n",
        "alldf[\"MSZoning\"] = alldf[\"MSZoning\"].fillna(m)"
      ]
    },
    {
      "cell_type": "code",
      "execution_count": null,
      "metadata": {
        "id": "OpxqA6HmxUf_"
      },
      "outputs": [],
      "source": [
        "# 巷弄型態\n",
        "\n",
        "alldf[\"Alley\"] = alldf[\"Alley\"].fillna(\"NoAlley\")"
      ]
    },
    {
      "cell_type": "code",
      "source": [
        "# 公共設施\n",
        "\n",
        "m = alldf[\"Utilities\"].value_counts().idxmax()\n",
        "alldf[\"Utilities\"] = alldf[\"Utilities\"].fillna(m)"
      ],
      "metadata": {
        "id": "70vOHEBftKMb"
      },
      "execution_count": null,
      "outputs": []
    },
    {
      "cell_type": "code",
      "source": [
        "# 第一層覆蓋物\n",
        "\n",
        "m = alldf[\"Exterior1st\"].value_counts().idxmax()\n",
        "alldf[\"Exterior1st\"] = alldf[\"Exterior1st\"].fillna(m)"
      ],
      "metadata": {
        "id": "phXonxyztvC5"
      },
      "execution_count": null,
      "outputs": []
    },
    {
      "cell_type": "code",
      "source": [
        "# 第二層覆蓋物\n",
        "\n",
        "m = alldf[\"Exterior2nd\"].value_counts().idxmax()\n",
        "alldf[\"Exterior2nd\"] = alldf[\"Exterior2nd\"].fillna(m)"
      ],
      "metadata": {
        "id": "dqloPx6BubKq"
      },
      "execution_count": null,
      "outputs": []
    },
    {
      "cell_type": "code",
      "source": [
        "# 砌築貼面型態\n",
        "\n",
        "m = alldf[\"MasVnrType\"].value_counts().idxmax()\n",
        "alldf[\"MasVnrType\"] = alldf[\"MasVnrType\"].fillna(m)"
      ],
      "metadata": {
        "id": "pZaHadUiuuuW"
      },
      "execution_count": null,
      "outputs": []
    },
    {
      "cell_type": "code",
      "source": [
        "# 地下室高度評價、地下室狀況評分、BsmtExposure、地下室完工類型一、地下室完工類型二\n",
        "\n",
        "alldf[\"BsmtQual\"] = alldf[\"BsmtQual\"].fillna(\"NoBsmt\")\n",
        "alldf[\"BsmtCond\"] = alldf[\"BsmtCond\"].fillna(\"NoBsmt\")\n",
        "alldf[\"BsmtExposure\"] = alldf[\"BsmtExposure\"].fillna(\"NoBsmt\")\n",
        "alldf[\"BsmtFinType1\"] = alldf[\"BsmtFinType1\"].fillna(\"NoBsmt\")\n",
        "alldf[\"BsmtFinType2\"] = alldf[\"BsmtFinType2\"].fillna(\"NoBsmt\")"
      ],
      "metadata": {
        "id": "TtZgKla9vYAZ"
      },
      "execution_count": null,
      "outputs": []
    },
    {
      "cell_type": "code",
      "source": [
        "# 電力系統\n",
        "\n",
        "m = alldf[\"Electrical\"].value_counts().idxmax()\n",
        "alldf[\"Electrical\"] = alldf[\"Electrical\"].fillna(m)"
      ],
      "metadata": {
        "id": "RAsVps951R3n"
      },
      "execution_count": null,
      "outputs": []
    },
    {
      "cell_type": "code",
      "source": [
        "# 廚房品質\n",
        "\n",
        "m = alldf[\"KitchenQual\"].value_counts().idxmax()\n",
        "alldf[\"KitchenQual\"] = alldf[\"KitchenQual\"].fillna(m)"
      ],
      "metadata": {
        "id": "YjLm4pVS1hWb"
      },
      "execution_count": null,
      "outputs": []
    },
    {
      "cell_type": "code",
      "source": [
        "# 家庭功能\n",
        "\n",
        "m = alldf[\"Functional\"].value_counts().idxmax()\n",
        "alldf[\"Functional\"] = alldf[\"Functional\"].fillna(m)"
      ],
      "metadata": {
        "id": "3NqTjksN1-_j"
      },
      "execution_count": null,
      "outputs": []
    },
    {
      "cell_type": "code",
      "source": [
        "# 壁爐品質\n",
        "\n",
        "alldf[\"FireplaceQu\"] = alldf[\"FireplaceQu\"].fillna(\"NoFireplace\")"
      ],
      "metadata": {
        "id": "Wy2joz_p3fia"
      },
      "execution_count": null,
      "outputs": []
    },
    {
      "cell_type": "code",
      "source": [
        "# 車庫類型、車庫內部裝修、車庫品質、車庫狀況\n",
        "\n",
        "alldf[\"GarageType\"] = alldf[\"GarageType\"].fillna(\"NoGarage\")\n",
        "alldf[\"GarageFinish\"] = alldf[\"GarageFinish\"].fillna(\"NoGarage\")\n",
        "alldf[\"GarageQual\"] = alldf[\"GarageQual\"].fillna(\"NoGarage\")\n",
        "alldf[\"GarageCond\"] = alldf[\"GarageCond\"].fillna(\"NoGarage\")"
      ],
      "metadata": {
        "id": "Ow1J_Kbb36uW"
      },
      "execution_count": null,
      "outputs": []
    },
    {
      "cell_type": "code",
      "source": [
        "# 泳池品質\n",
        "\n",
        "alldf[\"PoolQC\"] = alldf[\"PoolQC\"].fillna(\"NoPool\")"
      ],
      "metadata": {
        "id": "SxgZbdn54yIh"
      },
      "execution_count": null,
      "outputs": []
    },
    {
      "cell_type": "code",
      "source": [
        "# 籬笆品質\n",
        "\n",
        "alldf[\"Fence\"] = alldf[\"Fence\"].fillna(\"NoFence\")"
      ],
      "metadata": {
        "id": "CCt61iF74iwo"
      },
      "execution_count": null,
      "outputs": []
    },
    {
      "cell_type": "code",
      "source": [
        "# 其他類別未涵蓋的雜項功能\n",
        "\n",
        "alldf[\"MiscFeature\"] = alldf[\"MiscFeature\"].fillna(\"NoMiscFeature\")"
      ],
      "metadata": {
        "id": "4xViSjet5HUQ"
      },
      "execution_count": null,
      "outputs": []
    },
    {
      "cell_type": "code",
      "source": [
        "# 銷售類型\n",
        "\n",
        "m = alldf[\"SaleType\"].value_counts().idxmax()\n",
        "alldf[\"SaleType\"] = alldf[\"SaleType\"].fillna(m)"
      ],
      "metadata": {
        "id": "45p274QG5dje"
      },
      "execution_count": null,
      "outputs": []
    },
    {
      "cell_type": "markdown",
      "source": [
        "# 數值資料修正偏態、正規化"
      ],
      "metadata": {
        "id": "pi_zOqLG6xIv"
      }
    },
    {
      "cell_type": "code",
      "source": [
        "alldf.describe()"
      ],
      "metadata": {
        "colab": {
          "base_uri": "https://localhost:8080/",
          "height": 364
        },
        "id": "KoSSCI606U50",
        "outputId": "70fd3333-108b-4a43-f02a-4e98c8da1c7c"
      },
      "execution_count": null,
      "outputs": [
        {
          "output_type": "execute_result",
          "data": {
            "text/plain": [
              "        MSSubClass  LotFrontage        LotArea  OverallQual  OverallCond  \\\n",
              "count  2919.000000  2919.000000    2919.000000  2919.000000  2919.000000   \n",
              "mean     57.137718    69.088386   10168.114080     6.089072     5.564577   \n",
              "std      42.517628    21.317898    7886.996359     1.409947     1.113131   \n",
              "min      20.000000    21.000000    1300.000000     1.000000     1.000000   \n",
              "25%      20.000000    60.000000    7478.000000     5.000000     5.000000   \n",
              "50%      50.000000    68.000000    9453.000000     6.000000     5.000000   \n",
              "75%      70.000000    78.000000   11570.000000     7.000000     6.000000   \n",
              "max     190.000000   313.000000  215245.000000    10.000000     9.000000   \n",
              "\n",
              "         YearBuilt  YearRemodAdd   MasVnrArea   BsmtFinSF1   BsmtFinSF2  \\\n",
              "count  2919.000000   2919.000000  2919.000000  2919.000000  2919.000000   \n",
              "mean   1971.312778   1984.264474   101.396026   441.398253    49.565262   \n",
              "std      30.291442     20.894344   178.854579   455.534750   169.179104   \n",
              "min    1872.000000   1950.000000     0.000000     0.000000     0.000000   \n",
              "25%    1953.500000   1965.000000     0.000000     0.000000     0.000000   \n",
              "50%    1973.000000   1993.000000     0.000000   368.500000     0.000000   \n",
              "75%    2001.000000   2004.000000   163.500000   733.000000     0.000000   \n",
              "max    2010.000000   2010.000000  1600.000000  5644.000000  1526.000000   \n",
              "\n",
              "         BsmtUnfSF  TotalBsmtSF     1stFlrSF     2ndFlrSF  LowQualFinSF  \\\n",
              "count  2919.000000  2919.000000  2919.000000  2919.000000   2919.000000   \n",
              "mean    560.739979  1051.756252  1159.581706   336.483727      4.694416   \n",
              "std     439.471764   440.692234   392.362079   428.701456     46.396825   \n",
              "min       0.000000     0.000000   334.000000     0.000000      0.000000   \n",
              "25%     220.000000   793.000000   876.000000     0.000000      0.000000   \n",
              "50%     467.000000   989.500000  1082.000000     0.000000      0.000000   \n",
              "75%     805.000000  1302.000000  1387.500000   704.000000      0.000000   \n",
              "max    2336.000000  6110.000000  5095.000000  2065.000000   1064.000000   \n",
              "\n",
              "         GrLivArea  BsmtFullBath  BsmtHalfBath     FullBath     HalfBath  \\\n",
              "count  2919.000000   2919.000000   2919.000000  2919.000000  2919.000000   \n",
              "mean   1500.759849      0.429599      0.061322     1.568003     0.380267   \n",
              "std     506.051045      0.524676      0.245608     0.552969     0.502872   \n",
              "min     334.000000      0.000000      0.000000     0.000000     0.000000   \n",
              "25%    1126.000000      0.000000      0.000000     1.000000     0.000000   \n",
              "50%    1444.000000      0.000000      0.000000     2.000000     0.000000   \n",
              "75%    1743.500000      1.000000      0.000000     2.000000     1.000000   \n",
              "max    5642.000000      3.000000      2.000000     4.000000     2.000000   \n",
              "\n",
              "       BedroomAbvGr  KitchenAbvGr  TotRmsAbvGrd   Fireplaces  GarageYrBlt  \\\n",
              "count   2919.000000   2919.000000   2919.000000  2919.000000  2919.000000   \n",
              "mean       2.860226      1.044536      6.451524     0.597122  1978.161699   \n",
              "std        0.822693      0.214462      1.569379     0.646129    24.868576   \n",
              "min        0.000000      0.000000      2.000000     0.000000  1895.000000   \n",
              "25%        2.000000      1.000000      5.000000     0.000000  1961.500000   \n",
              "50%        3.000000      1.000000      6.000000     1.000000  1979.000000   \n",
              "75%        3.000000      1.000000      7.000000     1.000000  2001.000000   \n",
              "max        8.000000      3.000000     15.000000     4.000000  2207.000000   \n",
              "\n",
              "        GarageCars   GarageArea   WoodDeckSF  OpenPorchSF  EnclosedPorch  \\\n",
              "count  2919.000000  2919.000000  2919.000000  2919.000000    2919.000000   \n",
              "mean      1.766701   472.877013    93.709832    47.486811      23.098321   \n",
              "std       0.761506   215.357944   126.526589    67.575493      64.244246   \n",
              "min       0.000000     0.000000     0.000000     0.000000       0.000000   \n",
              "25%       1.000000   320.000000     0.000000     0.000000       0.000000   \n",
              "50%       2.000000   480.000000     0.000000    26.000000       0.000000   \n",
              "75%       2.000000   576.000000   168.000000    70.000000       0.000000   \n",
              "max       5.000000  1488.000000  1424.000000   742.000000    1012.000000   \n",
              "\n",
              "         3SsnPorch  ScreenPorch     PoolArea       MiscVal       MoSold  \\\n",
              "count  2919.000000  2919.000000  2919.000000   2919.000000  2919.000000   \n",
              "mean      2.602261    16.062350     2.251799     50.825968     6.213087   \n",
              "std      25.188169    56.184365    35.663946    567.402211     2.714762   \n",
              "min       0.000000     0.000000     0.000000      0.000000     1.000000   \n",
              "25%       0.000000     0.000000     0.000000      0.000000     4.000000   \n",
              "50%       0.000000     0.000000     0.000000      0.000000     6.000000   \n",
              "75%       0.000000     0.000000     0.000000      0.000000     8.000000   \n",
              "max     508.000000   576.000000   800.000000  17000.000000    12.000000   \n",
              "\n",
              "            YrSold  \n",
              "count  2919.000000  \n",
              "mean   2007.792737  \n",
              "std       1.314964  \n",
              "min    2006.000000  \n",
              "25%    2007.000000  \n",
              "50%    2008.000000  \n",
              "75%    2009.000000  \n",
              "max    2010.000000  "
            ],
            "text/html": [
              "\n",
              "  <div id=\"df-d4c94575-d44e-408f-bf27-6f743ca007a0\">\n",
              "    <div class=\"colab-df-container\">\n",
              "      <div>\n",
              "<style scoped>\n",
              "    .dataframe tbody tr th:only-of-type {\n",
              "        vertical-align: middle;\n",
              "    }\n",
              "\n",
              "    .dataframe tbody tr th {\n",
              "        vertical-align: top;\n",
              "    }\n",
              "\n",
              "    .dataframe thead th {\n",
              "        text-align: right;\n",
              "    }\n",
              "</style>\n",
              "<table border=\"1\" class=\"dataframe\">\n",
              "  <thead>\n",
              "    <tr style=\"text-align: right;\">\n",
              "      <th></th>\n",
              "      <th>MSSubClass</th>\n",
              "      <th>LotFrontage</th>\n",
              "      <th>LotArea</th>\n",
              "      <th>OverallQual</th>\n",
              "      <th>OverallCond</th>\n",
              "      <th>YearBuilt</th>\n",
              "      <th>YearRemodAdd</th>\n",
              "      <th>MasVnrArea</th>\n",
              "      <th>BsmtFinSF1</th>\n",
              "      <th>BsmtFinSF2</th>\n",
              "      <th>BsmtUnfSF</th>\n",
              "      <th>TotalBsmtSF</th>\n",
              "      <th>1stFlrSF</th>\n",
              "      <th>2ndFlrSF</th>\n",
              "      <th>LowQualFinSF</th>\n",
              "      <th>GrLivArea</th>\n",
              "      <th>BsmtFullBath</th>\n",
              "      <th>BsmtHalfBath</th>\n",
              "      <th>FullBath</th>\n",
              "      <th>HalfBath</th>\n",
              "      <th>BedroomAbvGr</th>\n",
              "      <th>KitchenAbvGr</th>\n",
              "      <th>TotRmsAbvGrd</th>\n",
              "      <th>Fireplaces</th>\n",
              "      <th>GarageYrBlt</th>\n",
              "      <th>GarageCars</th>\n",
              "      <th>GarageArea</th>\n",
              "      <th>WoodDeckSF</th>\n",
              "      <th>OpenPorchSF</th>\n",
              "      <th>EnclosedPorch</th>\n",
              "      <th>3SsnPorch</th>\n",
              "      <th>ScreenPorch</th>\n",
              "      <th>PoolArea</th>\n",
              "      <th>MiscVal</th>\n",
              "      <th>MoSold</th>\n",
              "      <th>YrSold</th>\n",
              "    </tr>\n",
              "  </thead>\n",
              "  <tbody>\n",
              "    <tr>\n",
              "      <th>count</th>\n",
              "      <td>2919.000000</td>\n",
              "      <td>2919.000000</td>\n",
              "      <td>2919.000000</td>\n",
              "      <td>2919.000000</td>\n",
              "      <td>2919.000000</td>\n",
              "      <td>2919.000000</td>\n",
              "      <td>2919.000000</td>\n",
              "      <td>2919.000000</td>\n",
              "      <td>2919.000000</td>\n",
              "      <td>2919.000000</td>\n",
              "      <td>2919.000000</td>\n",
              "      <td>2919.000000</td>\n",
              "      <td>2919.000000</td>\n",
              "      <td>2919.000000</td>\n",
              "      <td>2919.000000</td>\n",
              "      <td>2919.000000</td>\n",
              "      <td>2919.000000</td>\n",
              "      <td>2919.000000</td>\n",
              "      <td>2919.000000</td>\n",
              "      <td>2919.000000</td>\n",
              "      <td>2919.000000</td>\n",
              "      <td>2919.000000</td>\n",
              "      <td>2919.000000</td>\n",
              "      <td>2919.000000</td>\n",
              "      <td>2919.000000</td>\n",
              "      <td>2919.000000</td>\n",
              "      <td>2919.000000</td>\n",
              "      <td>2919.000000</td>\n",
              "      <td>2919.000000</td>\n",
              "      <td>2919.000000</td>\n",
              "      <td>2919.000000</td>\n",
              "      <td>2919.000000</td>\n",
              "      <td>2919.000000</td>\n",
              "      <td>2919.000000</td>\n",
              "      <td>2919.000000</td>\n",
              "      <td>2919.000000</td>\n",
              "    </tr>\n",
              "    <tr>\n",
              "      <th>mean</th>\n",
              "      <td>57.137718</td>\n",
              "      <td>69.088386</td>\n",
              "      <td>10168.114080</td>\n",
              "      <td>6.089072</td>\n",
              "      <td>5.564577</td>\n",
              "      <td>1971.312778</td>\n",
              "      <td>1984.264474</td>\n",
              "      <td>101.396026</td>\n",
              "      <td>441.398253</td>\n",
              "      <td>49.565262</td>\n",
              "      <td>560.739979</td>\n",
              "      <td>1051.756252</td>\n",
              "      <td>1159.581706</td>\n",
              "      <td>336.483727</td>\n",
              "      <td>4.694416</td>\n",
              "      <td>1500.759849</td>\n",
              "      <td>0.429599</td>\n",
              "      <td>0.061322</td>\n",
              "      <td>1.568003</td>\n",
              "      <td>0.380267</td>\n",
              "      <td>2.860226</td>\n",
              "      <td>1.044536</td>\n",
              "      <td>6.451524</td>\n",
              "      <td>0.597122</td>\n",
              "      <td>1978.161699</td>\n",
              "      <td>1.766701</td>\n",
              "      <td>472.877013</td>\n",
              "      <td>93.709832</td>\n",
              "      <td>47.486811</td>\n",
              "      <td>23.098321</td>\n",
              "      <td>2.602261</td>\n",
              "      <td>16.062350</td>\n",
              "      <td>2.251799</td>\n",
              "      <td>50.825968</td>\n",
              "      <td>6.213087</td>\n",
              "      <td>2007.792737</td>\n",
              "    </tr>\n",
              "    <tr>\n",
              "      <th>std</th>\n",
              "      <td>42.517628</td>\n",
              "      <td>21.317898</td>\n",
              "      <td>7886.996359</td>\n",
              "      <td>1.409947</td>\n",
              "      <td>1.113131</td>\n",
              "      <td>30.291442</td>\n",
              "      <td>20.894344</td>\n",
              "      <td>178.854579</td>\n",
              "      <td>455.534750</td>\n",
              "      <td>169.179104</td>\n",
              "      <td>439.471764</td>\n",
              "      <td>440.692234</td>\n",
              "      <td>392.362079</td>\n",
              "      <td>428.701456</td>\n",
              "      <td>46.396825</td>\n",
              "      <td>506.051045</td>\n",
              "      <td>0.524676</td>\n",
              "      <td>0.245608</td>\n",
              "      <td>0.552969</td>\n",
              "      <td>0.502872</td>\n",
              "      <td>0.822693</td>\n",
              "      <td>0.214462</td>\n",
              "      <td>1.569379</td>\n",
              "      <td>0.646129</td>\n",
              "      <td>24.868576</td>\n",
              "      <td>0.761506</td>\n",
              "      <td>215.357944</td>\n",
              "      <td>126.526589</td>\n",
              "      <td>67.575493</td>\n",
              "      <td>64.244246</td>\n",
              "      <td>25.188169</td>\n",
              "      <td>56.184365</td>\n",
              "      <td>35.663946</td>\n",
              "      <td>567.402211</td>\n",
              "      <td>2.714762</td>\n",
              "      <td>1.314964</td>\n",
              "    </tr>\n",
              "    <tr>\n",
              "      <th>min</th>\n",
              "      <td>20.000000</td>\n",
              "      <td>21.000000</td>\n",
              "      <td>1300.000000</td>\n",
              "      <td>1.000000</td>\n",
              "      <td>1.000000</td>\n",
              "      <td>1872.000000</td>\n",
              "      <td>1950.000000</td>\n",
              "      <td>0.000000</td>\n",
              "      <td>0.000000</td>\n",
              "      <td>0.000000</td>\n",
              "      <td>0.000000</td>\n",
              "      <td>0.000000</td>\n",
              "      <td>334.000000</td>\n",
              "      <td>0.000000</td>\n",
              "      <td>0.000000</td>\n",
              "      <td>334.000000</td>\n",
              "      <td>0.000000</td>\n",
              "      <td>0.000000</td>\n",
              "      <td>0.000000</td>\n",
              "      <td>0.000000</td>\n",
              "      <td>0.000000</td>\n",
              "      <td>0.000000</td>\n",
              "      <td>2.000000</td>\n",
              "      <td>0.000000</td>\n",
              "      <td>1895.000000</td>\n",
              "      <td>0.000000</td>\n",
              "      <td>0.000000</td>\n",
              "      <td>0.000000</td>\n",
              "      <td>0.000000</td>\n",
              "      <td>0.000000</td>\n",
              "      <td>0.000000</td>\n",
              "      <td>0.000000</td>\n",
              "      <td>0.000000</td>\n",
              "      <td>0.000000</td>\n",
              "      <td>1.000000</td>\n",
              "      <td>2006.000000</td>\n",
              "    </tr>\n",
              "    <tr>\n",
              "      <th>25%</th>\n",
              "      <td>20.000000</td>\n",
              "      <td>60.000000</td>\n",
              "      <td>7478.000000</td>\n",
              "      <td>5.000000</td>\n",
              "      <td>5.000000</td>\n",
              "      <td>1953.500000</td>\n",
              "      <td>1965.000000</td>\n",
              "      <td>0.000000</td>\n",
              "      <td>0.000000</td>\n",
              "      <td>0.000000</td>\n",
              "      <td>220.000000</td>\n",
              "      <td>793.000000</td>\n",
              "      <td>876.000000</td>\n",
              "      <td>0.000000</td>\n",
              "      <td>0.000000</td>\n",
              "      <td>1126.000000</td>\n",
              "      <td>0.000000</td>\n",
              "      <td>0.000000</td>\n",
              "      <td>1.000000</td>\n",
              "      <td>0.000000</td>\n",
              "      <td>2.000000</td>\n",
              "      <td>1.000000</td>\n",
              "      <td>5.000000</td>\n",
              "      <td>0.000000</td>\n",
              "      <td>1961.500000</td>\n",
              "      <td>1.000000</td>\n",
              "      <td>320.000000</td>\n",
              "      <td>0.000000</td>\n",
              "      <td>0.000000</td>\n",
              "      <td>0.000000</td>\n",
              "      <td>0.000000</td>\n",
              "      <td>0.000000</td>\n",
              "      <td>0.000000</td>\n",
              "      <td>0.000000</td>\n",
              "      <td>4.000000</td>\n",
              "      <td>2007.000000</td>\n",
              "    </tr>\n",
              "    <tr>\n",
              "      <th>50%</th>\n",
              "      <td>50.000000</td>\n",
              "      <td>68.000000</td>\n",
              "      <td>9453.000000</td>\n",
              "      <td>6.000000</td>\n",
              "      <td>5.000000</td>\n",
              "      <td>1973.000000</td>\n",
              "      <td>1993.000000</td>\n",
              "      <td>0.000000</td>\n",
              "      <td>368.500000</td>\n",
              "      <td>0.000000</td>\n",
              "      <td>467.000000</td>\n",
              "      <td>989.500000</td>\n",
              "      <td>1082.000000</td>\n",
              "      <td>0.000000</td>\n",
              "      <td>0.000000</td>\n",
              "      <td>1444.000000</td>\n",
              "      <td>0.000000</td>\n",
              "      <td>0.000000</td>\n",
              "      <td>2.000000</td>\n",
              "      <td>0.000000</td>\n",
              "      <td>3.000000</td>\n",
              "      <td>1.000000</td>\n",
              "      <td>6.000000</td>\n",
              "      <td>1.000000</td>\n",
              "      <td>1979.000000</td>\n",
              "      <td>2.000000</td>\n",
              "      <td>480.000000</td>\n",
              "      <td>0.000000</td>\n",
              "      <td>26.000000</td>\n",
              "      <td>0.000000</td>\n",
              "      <td>0.000000</td>\n",
              "      <td>0.000000</td>\n",
              "      <td>0.000000</td>\n",
              "      <td>0.000000</td>\n",
              "      <td>6.000000</td>\n",
              "      <td>2008.000000</td>\n",
              "    </tr>\n",
              "    <tr>\n",
              "      <th>75%</th>\n",
              "      <td>70.000000</td>\n",
              "      <td>78.000000</td>\n",
              "      <td>11570.000000</td>\n",
              "      <td>7.000000</td>\n",
              "      <td>6.000000</td>\n",
              "      <td>2001.000000</td>\n",
              "      <td>2004.000000</td>\n",
              "      <td>163.500000</td>\n",
              "      <td>733.000000</td>\n",
              "      <td>0.000000</td>\n",
              "      <td>805.000000</td>\n",
              "      <td>1302.000000</td>\n",
              "      <td>1387.500000</td>\n",
              "      <td>704.000000</td>\n",
              "      <td>0.000000</td>\n",
              "      <td>1743.500000</td>\n",
              "      <td>1.000000</td>\n",
              "      <td>0.000000</td>\n",
              "      <td>2.000000</td>\n",
              "      <td>1.000000</td>\n",
              "      <td>3.000000</td>\n",
              "      <td>1.000000</td>\n",
              "      <td>7.000000</td>\n",
              "      <td>1.000000</td>\n",
              "      <td>2001.000000</td>\n",
              "      <td>2.000000</td>\n",
              "      <td>576.000000</td>\n",
              "      <td>168.000000</td>\n",
              "      <td>70.000000</td>\n",
              "      <td>0.000000</td>\n",
              "      <td>0.000000</td>\n",
              "      <td>0.000000</td>\n",
              "      <td>0.000000</td>\n",
              "      <td>0.000000</td>\n",
              "      <td>8.000000</td>\n",
              "      <td>2009.000000</td>\n",
              "    </tr>\n",
              "    <tr>\n",
              "      <th>max</th>\n",
              "      <td>190.000000</td>\n",
              "      <td>313.000000</td>\n",
              "      <td>215245.000000</td>\n",
              "      <td>10.000000</td>\n",
              "      <td>9.000000</td>\n",
              "      <td>2010.000000</td>\n",
              "      <td>2010.000000</td>\n",
              "      <td>1600.000000</td>\n",
              "      <td>5644.000000</td>\n",
              "      <td>1526.000000</td>\n",
              "      <td>2336.000000</td>\n",
              "      <td>6110.000000</td>\n",
              "      <td>5095.000000</td>\n",
              "      <td>2065.000000</td>\n",
              "      <td>1064.000000</td>\n",
              "      <td>5642.000000</td>\n",
              "      <td>3.000000</td>\n",
              "      <td>2.000000</td>\n",
              "      <td>4.000000</td>\n",
              "      <td>2.000000</td>\n",
              "      <td>8.000000</td>\n",
              "      <td>3.000000</td>\n",
              "      <td>15.000000</td>\n",
              "      <td>4.000000</td>\n",
              "      <td>2207.000000</td>\n",
              "      <td>5.000000</td>\n",
              "      <td>1488.000000</td>\n",
              "      <td>1424.000000</td>\n",
              "      <td>742.000000</td>\n",
              "      <td>1012.000000</td>\n",
              "      <td>508.000000</td>\n",
              "      <td>576.000000</td>\n",
              "      <td>800.000000</td>\n",
              "      <td>17000.000000</td>\n",
              "      <td>12.000000</td>\n",
              "      <td>2010.000000</td>\n",
              "    </tr>\n",
              "  </tbody>\n",
              "</table>\n",
              "</div>\n",
              "      <button class=\"colab-df-convert\" onclick=\"convertToInteractive('df-d4c94575-d44e-408f-bf27-6f743ca007a0')\"\n",
              "              title=\"Convert this dataframe to an interactive table.\"\n",
              "              style=\"display:none;\">\n",
              "        \n",
              "  <svg xmlns=\"http://www.w3.org/2000/svg\" height=\"24px\"viewBox=\"0 0 24 24\"\n",
              "       width=\"24px\">\n",
              "    <path d=\"M0 0h24v24H0V0z\" fill=\"none\"/>\n",
              "    <path d=\"M18.56 5.44l.94 2.06.94-2.06 2.06-.94-2.06-.94-.94-2.06-.94 2.06-2.06.94zm-11 1L8.5 8.5l.94-2.06 2.06-.94-2.06-.94L8.5 2.5l-.94 2.06-2.06.94zm10 10l.94 2.06.94-2.06 2.06-.94-2.06-.94-.94-2.06-.94 2.06-2.06.94z\"/><path d=\"M17.41 7.96l-1.37-1.37c-.4-.4-.92-.59-1.43-.59-.52 0-1.04.2-1.43.59L10.3 9.45l-7.72 7.72c-.78.78-.78 2.05 0 2.83L4 21.41c.39.39.9.59 1.41.59.51 0 1.02-.2 1.41-.59l7.78-7.78 2.81-2.81c.8-.78.8-2.07 0-2.86zM5.41 20L4 18.59l7.72-7.72 1.47 1.35L5.41 20z\"/>\n",
              "  </svg>\n",
              "      </button>\n",
              "      \n",
              "  <style>\n",
              "    .colab-df-container {\n",
              "      display:flex;\n",
              "      flex-wrap:wrap;\n",
              "      gap: 12px;\n",
              "    }\n",
              "\n",
              "    .colab-df-convert {\n",
              "      background-color: #E8F0FE;\n",
              "      border: none;\n",
              "      border-radius: 50%;\n",
              "      cursor: pointer;\n",
              "      display: none;\n",
              "      fill: #1967D2;\n",
              "      height: 32px;\n",
              "      padding: 0 0 0 0;\n",
              "      width: 32px;\n",
              "    }\n",
              "\n",
              "    .colab-df-convert:hover {\n",
              "      background-color: #E2EBFA;\n",
              "      box-shadow: 0px 1px 2px rgba(60, 64, 67, 0.3), 0px 1px 3px 1px rgba(60, 64, 67, 0.15);\n",
              "      fill: #174EA6;\n",
              "    }\n",
              "\n",
              "    [theme=dark] .colab-df-convert {\n",
              "      background-color: #3B4455;\n",
              "      fill: #D2E3FC;\n",
              "    }\n",
              "\n",
              "    [theme=dark] .colab-df-convert:hover {\n",
              "      background-color: #434B5C;\n",
              "      box-shadow: 0px 1px 3px 1px rgba(0, 0, 0, 0.15);\n",
              "      filter: drop-shadow(0px 1px 2px rgba(0, 0, 0, 0.3));\n",
              "      fill: #FFFFFF;\n",
              "    }\n",
              "  </style>\n",
              "\n",
              "      <script>\n",
              "        const buttonEl =\n",
              "          document.querySelector('#df-d4c94575-d44e-408f-bf27-6f743ca007a0 button.colab-df-convert');\n",
              "        buttonEl.style.display =\n",
              "          google.colab.kernel.accessAllowed ? 'block' : 'none';\n",
              "\n",
              "        async function convertToInteractive(key) {\n",
              "          const element = document.querySelector('#df-d4c94575-d44e-408f-bf27-6f743ca007a0');\n",
              "          const dataTable =\n",
              "            await google.colab.kernel.invokeFunction('convertToInteractive',\n",
              "                                                     [key], {});\n",
              "          if (!dataTable) return;\n",
              "\n",
              "          const docLinkHtml = 'Like what you see? Visit the ' +\n",
              "            '<a target=\"_blank\" href=https://colab.research.google.com/notebooks/data_table.ipynb>data table notebook</a>'\n",
              "            + ' to learn more about interactive tables.';\n",
              "          element.innerHTML = '';\n",
              "          dataTable['output_type'] = 'display_data';\n",
              "          await google.colab.output.renderOutput(dataTable, element);\n",
              "          const docLink = document.createElement('div');\n",
              "          docLink.innerHTML = docLinkHtml;\n",
              "          element.appendChild(docLink);\n",
              "        }\n",
              "      </script>\n",
              "    </div>\n",
              "  </div>\n",
              "  "
            ]
          },
          "metadata": {},
          "execution_count": 24
        }
      ]
    },
    {
      "cell_type": "code",
      "source": [
        "# 2023/01/24更新 -> 新增判斷特徵內是否存在0.0的值，若有則不使用log、Box-Cox轉換\n",
        "\n",
        "# 偏度峰度轉換物件\n",
        "# AutoFix().min() 找出距離\n",
        "# AutoFix().pw() 使用次方轉換\n",
        "# AutoFix().log() 使用對數轉換\n",
        "# AutoFix().sq() 使用平方根轉換\n",
        "# AutoFix().tq() 使用立方根轉換\n",
        "# AutoFix().bc() 使用Box-Cox轉換\n",
        "# AutoFix().draw() 繪製分布圖\n",
        "\n",
        "class AutoFix:\n",
        "  def __init__(self, name):\n",
        "    self.name = name\n",
        "\n",
        "  # 用距離公式找出距離最小的轉換法\n",
        "  def min(self):\n",
        "\n",
        "    ori_skew = alldf[self.name].skew()\n",
        "    ori_kurt = alldf[self.name].kurt()\n",
        "\n",
        "    skew_list, kurt_list = [], []\n",
        "\n",
        "    if ori_skew < 0:\n",
        "\n",
        "      if 0.0 not in alldf[self.name].values:\n",
        "\n",
        "        # 次方轉換\n",
        "        pw = np.power(alldf[self.name], 2)\n",
        "\n",
        "        pw_skew = pw.skew()\n",
        "        pw_kurt = pw.kurt()\n",
        "\n",
        "        skew_list.append(pw_skew)\n",
        "        kurt_list.append(pw_kurt)\n",
        "\n",
        "        # 對數轉換\n",
        "        log = np.log(alldf[self.name])\n",
        "\n",
        "        log_skew = log.skew()\n",
        "        log_kurt = log.kurt()\n",
        "\n",
        "        skew_list.append(log_skew)\n",
        "        kurt_list.append(log_kurt)\n",
        "\n",
        "        # 平方根轉換\n",
        "        sq = alldf[self.name]**(1/2)\n",
        "\n",
        "        sq_skew = sq.skew()\n",
        "        sq_kurt = sq.kurt()\n",
        "\n",
        "        skew_list.append(sq_skew)\n",
        "        kurt_list.append(sq_kurt)\n",
        "\n",
        "        # 立方根轉換\n",
        "\n",
        "        tq = alldf[self.name]**(1/3)\n",
        "\n",
        "        tq_skew = tq.skew()\n",
        "        tq_kurt = tq.kurt()\n",
        "\n",
        "        skew_list.append(tq_skew)\n",
        "        kurt_list.append(tq_kurt)\n",
        "\n",
        "        # Box-Cox轉換\n",
        "        bc, lam = boxcox(alldf[self.name])\n",
        "        bc = pd.DataFrame(bc, columns=[self.name])[self.name]\n",
        "\n",
        "        bc_skew = bc.skew()\n",
        "        bc_kurt = bc.kurt()\n",
        "\n",
        "        skew_list.append(bc_skew)\n",
        "        kurt_list.append(bc_kurt)\n",
        "\n",
        "        # print(skew_list)\n",
        "        # print(kurt_list)\n",
        "\n",
        "        trans_dict = {0: \"pw\", 1: \"log\", 2: \"sq\", 3: \"tq\", 4: \"bc\"}\n",
        "\n",
        "        skew_loc = skew_list.index(min(skew_list))  # .index -> 找出list中值的位置\n",
        "        # print(trans_dict[skew_loc])\n",
        "\n",
        "        kurt_loc = kurt_list.index(min(kurt_list))  # .index -> 找出list中值的位置\n",
        "        # print(trans_dict[kurt_loc])\n",
        "\n",
        "        dis_list = []\n",
        "\n",
        "        pw_dis = ((pw_skew - 0) ** 2 + (pw_kurt - 0) ** 2) ** 0.5\n",
        "        dis_list.append(pw_dis)\n",
        "\n",
        "        log_dis = ((log_skew - 0) ** 2 + (log_kurt - 0) ** 2) ** 0.5\n",
        "        dis_list.append(log_dis)\n",
        "\n",
        "        sq_dis = ((sq_skew - 0) ** 2 + (sq_kurt - 0) ** 2) ** 0.5\n",
        "        dis_list.append(sq_dis)\n",
        "\n",
        "        tq_dis = ((tq_skew - 0) ** 2 + (tq_kurt - 0) ** 2) ** 0.5\n",
        "        dis_list.append(tq_dis)\n",
        "        \n",
        "        bc_dis = ((bc_skew - 0) ** 2 + (bc_kurt - 0) ** 2) ** 0.5\n",
        "        dis_list.append(bc_dis)\n",
        "\n",
        "        # print(log_dis, sq_dis, tq_dis, bc_dis)\n",
        "        # print(dis_list)\n",
        "\n",
        "        dis_loc = dis_list.index(min(dis_list))\n",
        "        print(trans_dict[dis_loc])\n",
        "      \n",
        "      else:\n",
        "        # 次方轉換\n",
        "        pw = np.power(alldf[self.name], 2)\n",
        "\n",
        "        pw_skew = pw.skew()\n",
        "        pw_kurt = pw.kurt()\n",
        "\n",
        "        skew_list.append(pw_skew)\n",
        "        kurt_list.append(pw_kurt)\n",
        "\n",
        "        # 平方根轉換\n",
        "        sq = alldf[self.name]**(1/2)\n",
        "\n",
        "        sq_skew = sq.skew()\n",
        "        sq_kurt = sq.kurt()\n",
        "\n",
        "        skew_list.append(sq_skew)\n",
        "        kurt_list.append(sq_kurt)\n",
        "\n",
        "        # 立方根轉換\n",
        "\n",
        "        tq = alldf[self.name]**(1/3)\n",
        "\n",
        "        tq_skew = tq.skew()\n",
        "        tq_kurt = tq.kurt()\n",
        "\n",
        "        skew_list.append(tq_skew)\n",
        "        kurt_list.append(tq_kurt)\n",
        "\n",
        "        # print(skew_list)\n",
        "        # print(kurt_list)\n",
        "\n",
        "        trans_dict = {0: \"pw\", 1: \"sq\", 2: \"tq\"}\n",
        "\n",
        "        skew_loc = skew_list.index(min(skew_list))  # .index -> 找出list中值的位置\n",
        "        # print(trans_dict[skew_loc])\n",
        "\n",
        "        kurt_loc = kurt_list.index(min(kurt_list))  # .index -> 找出list中值的位置\n",
        "        # print(trans_dict[kurt_loc])\n",
        "\n",
        "        dis_list = []\n",
        "\n",
        "        pw_dis = ((pw_skew - 0) ** 2 + (pw_kurt - 0) ** 2) ** 0.5\n",
        "        dis_list.append(pw_dis)\n",
        "\n",
        "        sq_dis = ((sq_skew - 0) ** 2 + (sq_kurt - 0) ** 2) ** 0.5\n",
        "        dis_list.append(sq_dis)\n",
        "\n",
        "        tq_dis = ((tq_skew - 0) ** 2 + (tq_kurt - 0) ** 2) ** 0.5\n",
        "        dis_list.append(tq_dis)\n",
        "\n",
        "        # print(log_dis, sq_dis, tq_dis, bc_dis)\n",
        "        # print(dis_list)\n",
        "\n",
        "        dis_loc = dis_list.index(min(dis_list))\n",
        "        print(trans_dict[dis_loc])\n",
        "\n",
        "\n",
        "    else:\n",
        "      if 0.0 not in alldf[self.name].values:\n",
        "    \n",
        "        # 對數轉換\n",
        "        log = np.log(alldf[self.name])\n",
        "\n",
        "        log_skew = log.skew()\n",
        "        log_kurt = log.kurt()\n",
        "\n",
        "        skew_list.append(log_skew)\n",
        "        kurt_list.append(log_kurt)\n",
        "\n",
        "        # 平方根轉換\n",
        "        sq = alldf[self.name]**(1/2)\n",
        "\n",
        "        sq_skew = sq.skew()\n",
        "        sq_kurt = sq.kurt()\n",
        "\n",
        "        skew_list.append(sq_skew)\n",
        "        kurt_list.append(sq_kurt)\n",
        "\n",
        "        # 立方根轉換\n",
        "\n",
        "        tq = alldf[self.name]**(1/3)\n",
        "\n",
        "        tq_skew = tq.skew()\n",
        "        tq_kurt = tq.kurt()\n",
        "\n",
        "        skew_list.append(tq_skew)\n",
        "        kurt_list.append(tq_kurt)\n",
        "\n",
        "        # Box-Cox 轉換\n",
        "        bc, lam = boxcox(alldf[self.name])\n",
        "        bc = pd.DataFrame(bc, columns=[self.name])[self.name]\n",
        "\n",
        "        bc_skew = bc.skew()\n",
        "        bc_kurt = bc.kurt()\n",
        "\n",
        "        skew_list.append(bc_skew)\n",
        "        kurt_list.append(bc_kurt)\n",
        "\n",
        "        # print(skew_list)\n",
        "        # print(kurt_list)\n",
        "\n",
        "        trans_dict = {0: \"log\", 1: \"sq\", 2: \"tq\", 3: \"bc\"}\n",
        "\n",
        "        skew_loc = skew_list.index(min(skew_list))  # .index -> 找出list中值的位置\n",
        "        # print(trans_dict[skew_loc])\n",
        "\n",
        "        kurt_loc = kurt_list.index(min(kurt_list))  # .index -> 找出list中值的位置\n",
        "        # print(trans_dict[kurt_loc])\n",
        "\n",
        "        dis_list = []\n",
        "\n",
        "        log_dis = ((log_skew - 0) ** 2 + (log_kurt - 0) ** 2) ** 0.5\n",
        "        dis_list.append(log_dis)\n",
        "\n",
        "        sq_dis = ((sq_skew - 0) ** 2 + (sq_kurt - 0) ** 2) ** 0.5\n",
        "        dis_list.append(sq_dis)\n",
        "\n",
        "        tq_dis = ((tq_skew - 0) ** 2 + (tq_kurt - 0) ** 2) ** 0.5\n",
        "        dis_list.append(tq_dis)\n",
        "        \n",
        "        bc_dis = ((bc_skew - 0) ** 2 + (bc_kurt - 0) ** 2) ** 0.5\n",
        "        dis_list.append(bc_dis)\n",
        "\n",
        "        # print(log_dis, sq_dis, tq_dis, bc_dis)\n",
        "        # print(dis_list)\n",
        "\n",
        "        dis_loc = dis_list.index(min(dis_list))\n",
        "        print(trans_dict[dis_loc])\n",
        "\n",
        "      else:\n",
        "\n",
        "        # 平方根轉換\n",
        "        sq = alldf[self.name]**(1/2)\n",
        "\n",
        "        sq_skew = sq.skew()\n",
        "        sq_kurt = sq.kurt()\n",
        "\n",
        "        skew_list.append(sq_skew)\n",
        "        kurt_list.append(sq_kurt)\n",
        "\n",
        "        # 立方根轉換\n",
        "\n",
        "        tq = alldf[self.name]**(1/3)\n",
        "\n",
        "        tq_skew = tq.skew()\n",
        "        tq_kurt = tq.kurt()\n",
        "\n",
        "        skew_list.append(tq_skew)\n",
        "        kurt_list.append(tq_kurt)\n",
        "\n",
        "        # print(skew_list)\n",
        "        # print(kurt_list)\n",
        "\n",
        "        trans_dict = {0: \"sq\", 1: \"tq\"}\n",
        "\n",
        "        skew_loc = skew_list.index(min(skew_list))  # .index -> 找出list中值的位置\n",
        "        # print(trans_dict[skew_loc])\n",
        "\n",
        "        kurt_loc = kurt_list.index(min(kurt_list))  # .index -> 找出list中值的位置\n",
        "        # print(trans_dict[kurt_loc])\n",
        "\n",
        "        dis_list = []\n",
        "\n",
        "        sq_dis = ((sq_skew - 0) ** 2 + (sq_kurt - 0) ** 2) ** 0.5\n",
        "        dis_list.append(sq_dis)\n",
        "\n",
        "        tq_dis = ((tq_skew - 0) ** 2 + (tq_kurt - 0) ** 2) ** 0.5\n",
        "        dis_list.append(tq_dis)\n",
        "\n",
        "        # print(log_dis, sq_dis, tq_dis, bc_dis)\n",
        "        # print(dis_list)\n",
        "\n",
        "        dis_loc = dis_list.index(min(dis_list))\n",
        "        print(trans_dict[dis_loc])\n",
        "\n",
        "  def pw(self):\n",
        "    alldf[self.name] = np.power(alldf[self.name], 2)\n",
        "\n",
        "    sns.histplot(alldf[self.name], kde=True)\n",
        "\n",
        "    skewness = round(alldf[self.name].skew(), 2)  # 偏度\n",
        "    kurtosis = round(alldf[self.name].kurt(), 2)  # 峰度\n",
        "    print(f\"調整後的{self.name}偏度(Skewness): {skewness}, 峰度(Kurtosis): {kurtosis}\")\n",
        "\n",
        "  def log(self):\n",
        "    alldf[self.name] = np.log(alldf[self.name])\n",
        "\n",
        "    sns.histplot(alldf[self.name], kde=True)\n",
        "\n",
        "    skewness = round(alldf[self.name].skew(), 2)  # 偏度\n",
        "    kurtosis = round(alldf[self.name].kurt(), 2)  # 峰度\n",
        "    print(f\"調整後的{self.name}偏度(Skewness): {skewness}, 峰度(Kurtosis): {kurtosis}\")\n",
        "\n",
        "  def sq(self):\n",
        "    alldf[self.name] = alldf[self.name]**(1/2)\n",
        "\n",
        "    sns.histplot(alldf[self.name], kde=True)\n",
        "\n",
        "    skewness = round(alldf[self.name].skew(), 2)  # 偏度\n",
        "    kurtosis = round(alldf[self.name].kurt(), 2)  # 峰度\n",
        "    print(f\"調整後的{self.name}偏度(Skewness): {skewness}, 峰度(Kurtosis): {kurtosis}\")\n",
        "  \n",
        "  def tq(self):\n",
        "    alldf[self.name] = alldf[self.name]**(1/3)\n",
        "\n",
        "    sns.histplot(alldf[self.name], kde=True)\n",
        "\n",
        "    skewness = round(alldf[self.name].skew(), 2)  # 偏度\n",
        "    kurtosis = round(alldf[self.name].kurt(), 2)  # 峰度\n",
        "    print(f\"調整後的{self.name}偏度(Skewness): {skewness}, 峰度(Kurtosis): {kurtosis}\")\n",
        "\n",
        "  def bc(self):\n",
        "    alldf[self.name], lam = boxcox(alldf[self.name])\n",
        "    alldf[self.name] = pd.DataFrame(alldf[self.name], columns=[self.name])[self.name]\n",
        "\n",
        "    sns.histplot(alldf[self.name], kde=True)\n",
        "\n",
        "    skewness = round(alldf[self.name].skew(), 2)  # 偏度\n",
        "    kurtosis = round(alldf[self.name].kurt(), 2)  # 峰度\n",
        "    print(f\"調整後的{self.name}偏度(Skewness): {skewness}, 峰度(Kurtosis): {kurtosis}\")\n",
        "\n",
        "  # 繪製分布圖\n",
        "  def draw(self):\n",
        "\n",
        "    sns.histplot(alldf[self.name], kde=True)\n",
        "\n",
        "    skewness = round(alldf[self.name].skew(), 2)  # 偏度\n",
        "    kurtosis = round(alldf[self.name].kurt(), 2)  # 峰度\n",
        "    print(f\"偏度(Skewness): {skewness}, 峰度(Kurtosis): {kurtosis}\")"
      ],
      "metadata": {
        "id": "8gZ-8BferRdr"
      },
      "execution_count": null,
      "outputs": []
    },
    {
      "cell_type": "markdown",
      "source": [
        "## 處理LotFrontage"
      ],
      "metadata": {
        "id": "ApWt7pyoIihM"
      }
    },
    {
      "cell_type": "code",
      "source": [
        "AutoFix(\"LotFrontage\").draw()"
      ],
      "metadata": {
        "colab": {
          "base_uri": "https://localhost:8080/",
          "height": 296
        },
        "id": "T_tCe4y56gDN",
        "outputId": "d7ec1243-c71a-46d0-94e3-ffa4cdc015a0"
      },
      "execution_count": null,
      "outputs": [
        {
          "output_type": "stream",
          "name": "stdout",
          "text": [
            "偏度(Skewness): 1.68, 峰度(Kurtosis): 14.2\n"
          ]
        },
        {
          "output_type": "display_data",
          "data": {
            "text/plain": [
              "<Figure size 432x288 with 1 Axes>"
            ],
            "image/png": "[encoded data removed]"
          },
          "metadata": {
            "needs_background": "light"
          }
        }
      ]
    },
    {
      "cell_type": "code",
      "source": [
        "AutoFix(\"LotFrontage\").min()"
      ],
      "metadata": {
        "colab": {
          "base_uri": "https://localhost:8080/"
        },
        "id": "ZDzo_SrptSBE",
        "outputId": "83fbba43-0168-4e5a-b390-784e72230fb3"
      },
      "execution_count": null,
      "outputs": [
        {
          "output_type": "stream",
          "name": "stdout",
          "text": [
            "tq\n"
          ]
        }
      ]
    },
    {
      "cell_type": "code",
      "source": [
        "AutoFix(\"LotFrontage\").tq()"
      ],
      "metadata": {
        "colab": {
          "base_uri": "https://localhost:8080/",
          "height": 300
        },
        "id": "OHm6xk6-0gQg",
        "outputId": "55486021-3506-4927-9ab7-1d6bb832a1c6"
      },
      "execution_count": null,
      "outputs": [
        {
          "output_type": "stream",
          "name": "stdout",
          "text": [
            "調整後的LotFrontage偏度(Skewness): -0.31, 峰度(Kurtosis): 3.1\n"
          ]
        },
        {
          "output_type": "display_data",
          "data": {
            "text/plain": [
              "<Figure size 432x288 with 1 Axes>"
            ],
            "image/png": "[encoded data removed]"
          },
          "metadata": {
            "needs_background": "light"
          }
        }
      ]
    },
    {
      "cell_type": "markdown",
      "source": [
        "## 處理LotArea"
      ],
      "metadata": {
        "id": "W1L_j5U6Iq_w"
      }
    },
    {
      "cell_type": "code",
      "source": [
        "AutoFix(\"LotArea\").draw()"
      ],
      "metadata": {
        "colab": {
          "base_uri": "https://localhost:8080/",
          "height": 296
        },
        "id": "38n-qlHz1rli",
        "outputId": "3e540452-ced0-47ea-b1f4-ce043c89a575"
      },
      "execution_count": null,
      "outputs": [
        {
          "output_type": "stream",
          "name": "stdout",
          "text": [
            "偏度(Skewness): 12.83, 峰度(Kurtosis): 264.95\n"
          ]
        },
        {
          "output_type": "display_data",
          "data": {
            "text/plain": [
              "<Figure size 432x288 with 1 Axes>"
            ],
            "image/png": "[encoded data removed]"
          },
          "metadata": {
            "needs_background": "light"
          }
        }
      ]
    },
    {
      "cell_type": "code",
      "source": [
        "AutoFix(\"LotArea\").min()"
      ],
      "metadata": {
        "colab": {
          "base_uri": "https://localhost:8080/"
        },
        "id": "OVVgx5dkIOGj",
        "outputId": "bf655f97-10ea-4c6e-a095-dd0823107dc1"
      },
      "execution_count": null,
      "outputs": [
        {
          "output_type": "stream",
          "name": "stdout",
          "text": [
            "log\n"
          ]
        }
      ]
    },
    {
      "cell_type": "code",
      "source": [
        "AutoFix(\"LotArea\").log()"
      ],
      "metadata": {
        "colab": {
          "base_uri": "https://localhost:8080/",
          "height": 296
        },
        "id": "zLUnehzEIRda",
        "outputId": "956c9844-395a-4589-8ecd-26d922ff1265"
      },
      "execution_count": null,
      "outputs": [
        {
          "output_type": "stream",
          "name": "stdout",
          "text": [
            "調整後的LotArea偏度(Skewness): -0.51, 峰度(Kurtosis): 3.75\n"
          ]
        },
        {
          "output_type": "display_data",
          "data": {
            "text/plain": [
              "<Figure size 432x288 with 1 Axes>"
            ],
            "image/png": "[encoded data removed]"
          },
          "metadata": {
            "needs_background": "light"
          }
        }
      ]
    },
    {
      "cell_type": "markdown",
      "source": [
        "## 處理MasVnrArea"
      ],
      "metadata": {
        "id": "HGYVApnVI74y"
      }
    },
    {
      "cell_type": "code",
      "source": [
        "AutoFix(\"MasVnrArea\").draw()"
      ],
      "metadata": {
        "colab": {
          "base_uri": "https://localhost:8080/",
          "height": 296
        },
        "id": "C8TyU52-I6XQ",
        "outputId": "a976c013-9a95-409a-e084-8f1255489e9d"
      },
      "execution_count": null,
      "outputs": [
        {
          "output_type": "stream",
          "name": "stdout",
          "text": [
            "偏度(Skewness): 2.61, 峰度(Kurtosis): 9.34\n"
          ]
        },
        {
          "output_type": "display_data",
          "data": {
            "text/plain": [
              "<Figure size 432x288 with 1 Axes>"
            ],
            "image/png": "[encoded data removed]"
          },
          "metadata": {
            "needs_background": "light"
          }
        }
      ]
    },
    {
      "cell_type": "code",
      "source": [
        "AutoFix(\"MasVnrArea\").min()"
      ],
      "metadata": {
        "colab": {
          "base_uri": "https://localhost:8080/"
        },
        "id": "n06VBDqN5uSD",
        "outputId": "f9afdd28-cf61-495b-fa04-f64a5af5683d"
      },
      "execution_count": null,
      "outputs": [
        {
          "output_type": "stream",
          "name": "stdout",
          "text": [
            "sq\n"
          ]
        }
      ]
    },
    {
      "cell_type": "code",
      "source": [
        "AutoFix(\"MasVnrArea\").sq()"
      ],
      "metadata": {
        "colab": {
          "base_uri": "https://localhost:8080/",
          "height": 296
        },
        "id": "WFp4xjBb6nal",
        "outputId": "f7e06cf2-951f-421e-9979-73bc81bc3fed"
      },
      "execution_count": null,
      "outputs": [
        {
          "output_type": "stream",
          "name": "stdout",
          "text": [
            "調整後的MasVnrArea偏度(Skewness): 1.07, 峰度(Kurtosis): 0.05\n"
          ]
        },
        {
          "output_type": "display_data",
          "data": {
            "text/plain": [
              "<Figure size 432x288 with 1 Axes>"
            ],
            "image/png": "[encoded data removed]"
          },
          "metadata": {
            "needs_background": "light"
          }
        }
      ]
    },
    {
      "cell_type": "markdown",
      "source": [
        "## 處理BsmtFinSF1"
      ],
      "metadata": {
        "id": "J2sUsV-n7xti"
      }
    },
    {
      "cell_type": "code",
      "source": [
        "AutoFix(\"BsmtFinSF1\").draw()"
      ],
      "metadata": {
        "colab": {
          "base_uri": "https://localhost:8080/",
          "height": 296
        },
        "id": "irHujMvL8EtJ",
        "outputId": "26370a5f-6746-4fdf-8973-c7102492ca36"
      },
      "execution_count": null,
      "outputs": [
        {
          "output_type": "stream",
          "name": "stdout",
          "text": [
            "偏度(Skewness): 1.43, 峰度(Kurtosis): 6.91\n"
          ]
        },
        {
          "output_type": "display_data",
          "data": {
            "text/plain": [
              "<Figure size 432x288 with 1 Axes>"
            ],
            "image/png": "[encoded data removed]"
          },
          "metadata": {
            "needs_background": "light"
          }
        }
      ]
    },
    {
      "cell_type": "code",
      "source": [
        "AutoFix(\"BsmtFinSF1\").min()"
      ],
      "metadata": {
        "colab": {
          "base_uri": "https://localhost:8080/"
        },
        "id": "ovkDsMgd76OR",
        "outputId": "fb061f15-5bfd-419c-b3bd-dcd96cc3c329"
      },
      "execution_count": null,
      "outputs": [
        {
          "output_type": "stream",
          "name": "stdout",
          "text": [
            "sq\n"
          ]
        }
      ]
    },
    {
      "cell_type": "code",
      "source": [
        "AutoFix(\"BsmtFinSF1\").sq()"
      ],
      "metadata": {
        "colab": {
          "base_uri": "https://localhost:8080/",
          "height": 296
        },
        "id": "DphVzgnq8ASi",
        "outputId": "a247b3e6-6a9d-413c-8338-8e7b1619b033"
      },
      "execution_count": null,
      "outputs": [
        {
          "output_type": "stream",
          "name": "stdout",
          "text": [
            "調整後的BsmtFinSF1偏度(Skewness): -0.01, 峰度(Kurtosis): -1.21\n"
          ]
        },
        {
          "output_type": "display_data",
          "data": {
            "text/plain": [
              "<Figure size 432x288 with 1 Axes>"
            ],
            "image/png": "[encoded data removed]"
          },
          "metadata": {
            "needs_background": "light"
          }
        }
      ]
    },
    {
      "cell_type": "markdown",
      "source": [
        "## 處理BsmtFinSF2"
      ],
      "metadata": {
        "id": "LIdvrZve8OyY"
      }
    },
    {
      "cell_type": "code",
      "source": [
        "AutoFix(\"BsmtFinSF2\").draw()"
      ],
      "metadata": {
        "colab": {
          "base_uri": "https://localhost:8080/",
          "height": 296
        },
        "id": "mMnuYZOw8Sb7",
        "outputId": "9a9a4677-b729-48de-9b47-ebb956e02993"
      },
      "execution_count": null,
      "outputs": [
        {
          "output_type": "stream",
          "name": "stdout",
          "text": [
            "偏度(Skewness): 4.15, 峰度(Kurtosis): 18.84\n"
          ]
        },
        {
          "output_type": "display_data",
          "data": {
            "text/plain": [
              "<Figure size 432x288 with 1 Axes>"
            ],
            "image/png": "[encoded data removed]"
          },
          "metadata": {
            "needs_background": "light"
          }
        }
      ]
    },
    {
      "cell_type": "code",
      "source": [
        "AutoFix(\"BsmtFinSF2\").min()"
      ],
      "metadata": {
        "colab": {
          "base_uri": "https://localhost:8080/"
        },
        "id": "nVWbiE1h8WSc",
        "outputId": "dd9564d9-c417-4d0f-e154-2d1e09dce7e7"
      },
      "execution_count": null,
      "outputs": [
        {
          "output_type": "stream",
          "name": "stdout",
          "text": [
            "tq\n"
          ]
        }
      ]
    },
    {
      "cell_type": "code",
      "source": [
        "AutoFix(\"BsmtFinSF2\").tq()"
      ],
      "metadata": {
        "colab": {
          "base_uri": "https://localhost:8080/",
          "height": 296
        },
        "id": "5NGPLTRj8ZcZ",
        "outputId": "a8b008f4-ec00-4acb-84ef-5486f88bcd61"
      },
      "execution_count": null,
      "outputs": [
        {
          "output_type": "stream",
          "name": "stdout",
          "text": [
            "調整後的BsmtFinSF2偏度(Skewness): 2.68, 峰度(Kurtosis): 5.73\n"
          ]
        },
        {
          "output_type": "display_data",
          "data": {
            "text/plain": [
              "<Figure size 432x288 with 1 Axes>"
            ],
            "image/png": "[encoded data removed]"
          },
          "metadata": {
            "needs_background": "light"
          }
        }
      ]
    },
    {
      "cell_type": "markdown",
      "source": [
        "## 處理BsmtUnfSF"
      ],
      "metadata": {
        "id": "ckpXY6v_9Fya"
      }
    },
    {
      "cell_type": "code",
      "source": [
        "AutoFix(\"BsmtUnfSF\").draw()"
      ],
      "metadata": {
        "colab": {
          "base_uri": "https://localhost:8080/",
          "height": 296
        },
        "id": "vA10xhvS8tNu",
        "outputId": "d0c4af1a-141d-4423-8964-48a94abecd73"
      },
      "execution_count": null,
      "outputs": [
        {
          "output_type": "stream",
          "name": "stdout",
          "text": [
            "偏度(Skewness): 0.92, 峰度(Kurtosis): 0.4\n"
          ]
        },
        {
          "output_type": "display_data",
          "data": {
            "text/plain": [
              "<Figure size 432x288 with 1 Axes>"
            ],
            "image/png": "[encoded data removed]"
          },
          "metadata": {
            "needs_background": "light"
          }
        }
      ]
    },
    {
      "cell_type": "code",
      "source": [
        "AutoFix(\"BsmtUnfSF\").min()"
      ],
      "metadata": {
        "colab": {
          "base_uri": "https://localhost:8080/"
        },
        "id": "VP4dMvnz8x1P",
        "outputId": "4b0f1406-7714-44e3-a5f1-7ae6011acf2e"
      },
      "execution_count": null,
      "outputs": [
        {
          "output_type": "stream",
          "name": "stdout",
          "text": [
            "sq\n"
          ]
        }
      ]
    },
    {
      "cell_type": "code",
      "source": [
        "AutoFix(\"BsmtUnfSF\").sq()"
      ],
      "metadata": {
        "colab": {
          "base_uri": "https://localhost:8080/",
          "height": 298
        },
        "id": "A_P4Hob-83En",
        "outputId": "b02adfd3-66a7-4bb6-f8f2-2e98f65e424a"
      },
      "execution_count": null,
      "outputs": [
        {
          "output_type": "stream",
          "name": "stdout",
          "text": [
            "調整後的BsmtUnfSF偏度(Skewness): -0.24, 峰度(Kurtosis): -0.29\n"
          ]
        },
        {
          "output_type": "display_data",
          "data": {
            "text/plain": [
              "<Figure size 432x288 with 1 Axes>"
            ],
            "image/png": "[encoded data removed]"
          },
          "metadata": {
            "needs_background": "light"
          }
        }
      ]
    },
    {
      "cell_type": "markdown",
      "source": [
        "## 處理TotalBsmtSF"
      ],
      "metadata": {
        "id": "tPmvcMbF9Igm"
      }
    },
    {
      "cell_type": "code",
      "source": [
        "AutoFix(\"TotalBsmtSF\").draw()"
      ],
      "metadata": {
        "colab": {
          "base_uri": "https://localhost:8080/",
          "height": 300
        },
        "id": "1ciOhEbu9LIu",
        "outputId": "384ce734-8241-4991-a0aa-445713286039"
      },
      "execution_count": null,
      "outputs": [
        {
          "output_type": "stream",
          "name": "stdout",
          "text": [
            "偏度(Skewness): 1.16, 峰度(Kurtosis): 9.16\n"
          ]
        },
        {
          "output_type": "display_data",
          "data": {
            "text/plain": [
              "<Figure size 432x288 with 1 Axes>"
            ],
            "image/png": "[encoded data removed]"
          },
          "metadata": {
            "needs_background": "light"
          }
        }
      ]
    },
    {
      "cell_type": "code",
      "source": [
        "AutoFix(\"TotalBsmtSF\").min()"
      ],
      "metadata": {
        "colab": {
          "base_uri": "https://localhost:8080/"
        },
        "id": "Dr-CYHAa9QkM",
        "outputId": "85710351-7ee4-4aaa-fc88-0ddddeed286f"
      },
      "execution_count": null,
      "outputs": [
        {
          "output_type": "stream",
          "name": "stdout",
          "text": [
            "sq\n"
          ]
        }
      ]
    },
    {
      "cell_type": "code",
      "source": [
        "AutoFix(\"TotalBsmtSF\").sq()"
      ],
      "metadata": {
        "colab": {
          "base_uri": "https://localhost:8080/",
          "height": 296
        },
        "id": "dxz_AQTo9Tik",
        "outputId": "5a82513d-7283-4584-fbd6-f0e43746d65d"
      },
      "execution_count": null,
      "outputs": [
        {
          "output_type": "stream",
          "name": "stdout",
          "text": [
            "調整後的TotalBsmtSF偏度(Skewness): -1.31, 峰度(Kurtosis): 5.58\n"
          ]
        },
        {
          "output_type": "display_data",
          "data": {
            "text/plain": [
              "<Figure size 432x288 with 1 Axes>"
            ],
            "image/png": "[encoded data removed]"
          },
          "metadata": {
            "needs_background": "light"
          }
        }
      ]
    },
    {
      "cell_type": "markdown",
      "source": [
        "## 處理1stFlrSF"
      ],
      "metadata": {
        "id": "0GR4Tlbb9ecl"
      }
    },
    {
      "cell_type": "code",
      "source": [
        "AutoFix(\"1stFlrSF\").draw()"
      ],
      "metadata": {
        "colab": {
          "base_uri": "https://localhost:8080/",
          "height": 296
        },
        "id": "CDRl2ptN9hEk",
        "outputId": "d7b0eab9-8a24-4d84-fb60-9b6e302d41fa"
      },
      "execution_count": null,
      "outputs": [
        {
          "output_type": "stream",
          "name": "stdout",
          "text": [
            "偏度(Skewness): 1.47, 峰度(Kurtosis): 6.96\n"
          ]
        },
        {
          "output_type": "display_data",
          "data": {
            "text/plain": [
              "<Figure size 432x288 with 1 Axes>"
            ],
            "image/png": "[encoded data removed]"
          },
          "metadata": {
            "needs_background": "light"
          }
        }
      ]
    },
    {
      "cell_type": "code",
      "source": [
        "AutoFix(\"1stFlrSF\").min()"
      ],
      "metadata": {
        "colab": {
          "base_uri": "https://localhost:8080/"
        },
        "id": "jST-Iac59lfk",
        "outputId": "ebdae78e-c7a5-4bfb-c9bc-0114d02ebbc2"
      },
      "execution_count": null,
      "outputs": [
        {
          "output_type": "stream",
          "name": "stdout",
          "text": [
            "bc\n"
          ]
        }
      ]
    },
    {
      "cell_type": "code",
      "source": [
        "AutoFix(\"1stFlrSF\").bc()"
      ],
      "metadata": {
        "colab": {
          "base_uri": "https://localhost:8080/",
          "height": 296
        },
        "id": "kooHa6qU9rh8",
        "outputId": "0a7ac58f-abe4-46c7-a8ca-8f6f3df39772"
      },
      "execution_count": null,
      "outputs": [
        {
          "output_type": "stream",
          "name": "stdout",
          "text": [
            "調整後的1stFlrSF偏度(Skewness): -0.0, 峰度(Kurtosis): 0.13\n"
          ]
        },
        {
          "output_type": "display_data",
          "data": {
            "text/plain": [
              "<Figure size 432x288 with 1 Axes>"
            ],
            "image/png": "[encoded data removed]"
          },
          "metadata": {
            "needs_background": "light"
          }
        }
      ]
    },
    {
      "cell_type": "markdown",
      "source": [
        "## 處理2ndFlrSF"
      ],
      "metadata": {
        "id": "yIk_u8YD91XL"
      }
    },
    {
      "cell_type": "code",
      "source": [
        "AutoFix(\"2ndFlrSF\").draw()"
      ],
      "metadata": {
        "colab": {
          "base_uri": "https://localhost:8080/",
          "height": 296
        },
        "id": "d9nb7iiK94tc",
        "outputId": "497b0899-d86d-4e37-ac15-fe4f5e90db79"
      },
      "execution_count": null,
      "outputs": [
        {
          "output_type": "stream",
          "name": "stdout",
          "text": [
            "偏度(Skewness): 0.86, 峰度(Kurtosis): -0.42\n"
          ]
        },
        {
          "output_type": "display_data",
          "data": {
            "text/plain": [
              "<Figure size 432x288 with 1 Axes>"
            ],
            "image/png": "[encoded data removed]"
          },
          "metadata": {
            "needs_background": "light"
          }
        }
      ]
    },
    {
      "cell_type": "code",
      "source": [
        "AutoFix(\"2ndFlrSF\").min()"
      ],
      "metadata": {
        "colab": {
          "base_uri": "https://localhost:8080/"
        },
        "id": "C_eyhVPt99Hd",
        "outputId": "33be37df-a47e-4b1f-f1e7-99b36eeef46d"
      },
      "execution_count": null,
      "outputs": [
        {
          "output_type": "stream",
          "name": "stdout",
          "text": [
            "sq\n"
          ]
        }
      ]
    },
    {
      "cell_type": "code",
      "source": [
        "AutoFix(\"2ndFlrSF\").sq()"
      ],
      "metadata": {
        "colab": {
          "base_uri": "https://localhost:8080/",
          "height": 296
        },
        "id": "SFFqhCTK-AlL",
        "outputId": "ada26c47-13f2-44c6-a350-0ba12a467c17"
      },
      "execution_count": null,
      "outputs": [
        {
          "output_type": "stream",
          "name": "stdout",
          "text": [
            "調整後的2ndFlrSF偏度(Skewness): 0.45, 峰度(Kurtosis): -1.6\n"
          ]
        },
        {
          "output_type": "display_data",
          "data": {
            "text/plain": [
              "<Figure size 432x288 with 1 Axes>"
            ],
            "image/png": "[encoded data removed]"
          },
          "metadata": {
            "needs_background": "light"
          }
        }
      ]
    },
    {
      "cell_type": "markdown",
      "source": [
        "## 處理LowQualFinSF"
      ],
      "metadata": {
        "id": "Pj15v1no_00-"
      }
    },
    {
      "cell_type": "code",
      "source": [
        "AutoFix(\"LowQualFinSF\").draw()"
      ],
      "metadata": {
        "colab": {
          "base_uri": "https://localhost:8080/",
          "height": 296
        },
        "id": "YzQft_T3_2S9",
        "outputId": "1430f5ab-5962-435b-dee8-9c544da7cbe7"
      },
      "execution_count": null,
      "outputs": [
        {
          "output_type": "stream",
          "name": "stdout",
          "text": [
            "偏度(Skewness): 12.09, 峰度(Kurtosis): 174.93\n"
          ]
        },
        {
          "output_type": "display_data",
          "data": {
            "text/plain": [
              "<Figure size 432x288 with 1 Axes>"
            ],
            "image/png": "[encoded data removed]"
          },
          "metadata": {
            "needs_background": "light"
          }
        }
      ]
    },
    {
      "cell_type": "code",
      "source": [
        "AutoFix(\"LowQualFinSF\").min()"
      ],
      "metadata": {
        "colab": {
          "base_uri": "https://localhost:8080/"
        },
        "id": "iI0nqXtc_6aN",
        "outputId": "7414795d-5535-41f9-eacc-71f8d61145db"
      },
      "execution_count": null,
      "outputs": [
        {
          "output_type": "stream",
          "name": "stdout",
          "text": [
            "tq\n"
          ]
        }
      ]
    },
    {
      "cell_type": "code",
      "source": [
        "AutoFix(\"LowQualFinSF\").tq()"
      ],
      "metadata": {
        "colab": {
          "base_uri": "https://localhost:8080/",
          "height": 296
        },
        "id": "wUzLPxz6AEv4",
        "outputId": "919ef471-deb9-4b92-cd42-57e98a389807"
      },
      "execution_count": null,
      "outputs": [
        {
          "output_type": "stream",
          "name": "stdout",
          "text": [
            "調整後的LowQualFinSF偏度(Skewness): 8.94, 峰度(Kurtosis): 80.71\n"
          ]
        },
        {
          "output_type": "display_data",
          "data": {
            "text/plain": [
              "<Figure size 432x288 with 1 Axes>"
            ],
            "image/png": "[encoded data removed]"
          },
          "metadata": {
            "needs_background": "light"
          }
        }
      ]
    },
    {
      "cell_type": "markdown",
      "source": [
        "## 處理GrLivArea"
      ],
      "metadata": {
        "id": "OyabIce4AMzv"
      }
    },
    {
      "cell_type": "code",
      "source": [
        "AutoFix(\"GrLivArea\").draw()"
      ],
      "metadata": {
        "colab": {
          "base_uri": "https://localhost:8080/",
          "height": 296
        },
        "id": "Bm_veyxOAMPF",
        "outputId": "ff6045bb-f325-4bc1-d7e6-e921fca75ad8"
      },
      "execution_count": null,
      "outputs": [
        {
          "output_type": "stream",
          "name": "stdout",
          "text": [
            "偏度(Skewness): 1.27, 峰度(Kurtosis): 4.12\n"
          ]
        },
        {
          "output_type": "display_data",
          "data": {
            "text/plain": [
              "<Figure size 432x288 with 1 Axes>"
            ],
            "image/png": "[encoded data removed]"
          },
          "metadata": {
            "needs_background": "light"
          }
        }
      ]
    },
    {
      "cell_type": "code",
      "source": [
        "AutoFix(\"GrLivArea\").min()"
      ],
      "metadata": {
        "colab": {
          "base_uri": "https://localhost:8080/"
        },
        "id": "ZdJOdyV4ATs8",
        "outputId": "0c104982-dfe0-4e6a-b3a9-46f153abb1bf"
      },
      "execution_count": null,
      "outputs": [
        {
          "output_type": "stream",
          "name": "stdout",
          "text": [
            "bc\n"
          ]
        }
      ]
    },
    {
      "cell_type": "code",
      "source": [
        "AutoFix(\"GrLivArea\").bc()"
      ],
      "metadata": {
        "colab": {
          "base_uri": "https://localhost:8080/",
          "height": 296
        },
        "id": "RFVmejDEAW_n",
        "outputId": "9ca8d410-0c1c-4086-8be9-fc38c0a0d11b"
      },
      "execution_count": null,
      "outputs": [
        {
          "output_type": "stream",
          "name": "stdout",
          "text": [
            "調整後的GrLivArea偏度(Skewness): -0.0, 峰度(Kurtosis): 0.21\n"
          ]
        },
        {
          "output_type": "display_data",
          "data": {
            "text/plain": [
              "<Figure size 432x288 with 1 Axes>"
            ],
            "image/png": "[encoded data removed]"
          },
          "metadata": {
            "needs_background": "light"
          }
        }
      ]
    },
    {
      "cell_type": "markdown",
      "source": [
        "## GarageArea不處理"
      ],
      "metadata": {
        "id": "Ae-fCNgMBSsU"
      }
    },
    {
      "cell_type": "code",
      "source": [
        "AutoFix(\"GarageArea\").draw()"
      ],
      "metadata": {
        "colab": {
          "base_uri": "https://localhost:8080/",
          "height": 296
        },
        "id": "LvlLRBtWAg8D",
        "outputId": "3fa72431-7409-4223-87c1-1cb21fc06943"
      },
      "execution_count": null,
      "outputs": [
        {
          "output_type": "stream",
          "name": "stdout",
          "text": [
            "偏度(Skewness): 0.24, 峰度(Kurtosis): 0.94\n"
          ]
        },
        {
          "output_type": "display_data",
          "data": {
            "text/plain": [
              "<Figure size 432x288 with 1 Axes>"
            ],
            "image/png": "[encoded data removed]"
          },
          "metadata": {
            "needs_background": "light"
          }
        }
      ]
    },
    {
      "cell_type": "markdown",
      "source": [
        "## 處理WoodDeckSF"
      ],
      "metadata": {
        "id": "CqNFp62GA0F8"
      }
    },
    {
      "cell_type": "code",
      "source": [
        "AutoFix(\"WoodDeckSF\").draw()"
      ],
      "metadata": {
        "colab": {
          "base_uri": "https://localhost:8080/",
          "height": 299
        },
        "id": "NBIg2KQjB1DI",
        "outputId": "cd1f7440-4166-48c4-a7d3-c1cf2ef8d172"
      },
      "execution_count": null,
      "outputs": [
        {
          "output_type": "stream",
          "name": "stdout",
          "text": [
            "偏度(Skewness): 1.84, 峰度(Kurtosis): 6.74\n"
          ]
        },
        {
          "output_type": "display_data",
          "data": {
            "text/plain": [
              "<Figure size 432x288 with 1 Axes>"
            ],
            "image/png": "[encoded data removed]"
          },
          "metadata": {
            "needs_background": "light"
          }
        }
      ]
    },
    {
      "cell_type": "code",
      "source": [
        "AutoFix(\"WoodDeckSF\").min()"
      ],
      "metadata": {
        "colab": {
          "base_uri": "https://localhost:8080/"
        },
        "id": "yKLnJK5VB7Xq",
        "outputId": "f5b5642a-4f2b-4885-86d4-1240074f074d"
      },
      "execution_count": null,
      "outputs": [
        {
          "output_type": "stream",
          "name": "stdout",
          "text": [
            "sq\n"
          ]
        }
      ]
    },
    {
      "cell_type": "code",
      "source": [
        "AutoFix(\"WoodDeckSF\").sq()"
      ],
      "metadata": {
        "colab": {
          "base_uri": "https://localhost:8080/",
          "height": 296
        },
        "id": "WHvYyzOiB9-n",
        "outputId": "375d7240-2b55-4a28-cd99-3ee681a48cf9"
      },
      "execution_count": null,
      "outputs": [
        {
          "output_type": "stream",
          "name": "stdout",
          "text": [
            "調整後的WoodDeckSF偏度(Skewness): 0.51, 峰度(Kurtosis): -1.12\n"
          ]
        },
        {
          "output_type": "display_data",
          "data": {
            "text/plain": [
              "<Figure size 432x288 with 1 Axes>"
            ],
            "image/png": "[encoded data removed]"
          },
          "metadata": {
            "needs_background": "light"
          }
        }
      ]
    },
    {
      "cell_type": "markdown",
      "source": [
        "## 處理OpenPorchSF"
      ],
      "metadata": {
        "id": "tBjO_9y_CJcW"
      }
    },
    {
      "cell_type": "code",
      "source": [
        "AutoFix(\"OpenPorchSF\").draw()"
      ],
      "metadata": {
        "colab": {
          "base_uri": "https://localhost:8080/",
          "height": 296
        },
        "id": "ki_8vsewCNsw",
        "outputId": "d9f80318-1c24-4fc0-cf0a-fcc4a272542a"
      },
      "execution_count": null,
      "outputs": [
        {
          "output_type": "stream",
          "name": "stdout",
          "text": [
            "偏度(Skewness): 2.54, 峰度(Kurtosis): 10.94\n"
          ]
        },
        {
          "output_type": "display_data",
          "data": {
            "text/plain": [
              "<Figure size 432x288 with 1 Axes>"
            ],
            "image/png": "[encoded data removed]"
          },
          "metadata": {
            "needs_background": "light"
          }
        }
      ]
    },
    {
      "cell_type": "code",
      "source": [
        "AutoFix(\"OpenPorchSF\").min()"
      ],
      "metadata": {
        "colab": {
          "base_uri": "https://localhost:8080/"
        },
        "id": "W-m_kY80CRJO",
        "outputId": "629a080d-7057-45e7-cc90-3a9c4e017b94"
      },
      "execution_count": null,
      "outputs": [
        {
          "output_type": "stream",
          "name": "stdout",
          "text": [
            "sq\n"
          ]
        }
      ]
    },
    {
      "cell_type": "code",
      "source": [
        "AutoFix(\"OpenPorchSF\").sq()"
      ],
      "metadata": {
        "colab": {
          "base_uri": "https://localhost:8080/",
          "height": 296
        },
        "id": "jGfTYmwdCTwm",
        "outputId": "569ace7f-ac7a-424a-b1f0-21ac93fbe845"
      },
      "execution_count": null,
      "outputs": [
        {
          "output_type": "stream",
          "name": "stdout",
          "text": [
            "調整後的OpenPorchSF偏度(Skewness): 0.6, 峰度(Kurtosis): -0.46\n"
          ]
        },
        {
          "output_type": "display_data",
          "data": {
            "text/plain": [
              "<Figure size 432x288 with 1 Axes>"
            ],
            "image/png": "[encoded data removed]"
          },
          "metadata": {
            "needs_background": "light"
          }
        }
      ]
    },
    {
      "cell_type": "markdown",
      "source": [
        "## 處理EnclosedPorch"
      ],
      "metadata": {
        "id": "f0imr9ZXCcXO"
      }
    },
    {
      "cell_type": "code",
      "source": [
        "AutoFix(\"EnclosedPorch\").draw()"
      ],
      "metadata": {
        "colab": {
          "base_uri": "https://localhost:8080/",
          "height": 296
        },
        "id": "R77OJyC4Cd1I",
        "outputId": "9d324bc3-0a21-4ce5-f701-d269acc0d4e5"
      },
      "execution_count": null,
      "outputs": [
        {
          "output_type": "stream",
          "name": "stdout",
          "text": [
            "偏度(Skewness): 4.01, 峰度(Kurtosis): 28.38\n"
          ]
        },
        {
          "output_type": "display_data",
          "data": {
            "text/plain": [
              "<Figure size 432x288 with 1 Axes>"
            ],
            "image/png": "[encoded data removed]"
          },
          "metadata": {
            "needs_background": "light"
          }
        }
      ]
    },
    {
      "cell_type": "code",
      "source": [
        "AutoFix(\"EnclosedPorch\").min()"
      ],
      "metadata": {
        "colab": {
          "base_uri": "https://localhost:8080/"
        },
        "id": "vqRAI2KzChe2",
        "outputId": "44c64c85-25b3-446b-b567-8c6038cfbdda"
      },
      "execution_count": null,
      "outputs": [
        {
          "output_type": "stream",
          "name": "stdout",
          "text": [
            "tq\n"
          ]
        }
      ]
    },
    {
      "cell_type": "code",
      "source": [
        "AutoFix(\"EnclosedPorch\").tq()"
      ],
      "metadata": {
        "colab": {
          "base_uri": "https://localhost:8080/",
          "height": 296
        },
        "id": "4XkY0qS_CkCF",
        "outputId": "772332b8-3c59-482f-ad4d-6f269929d98d"
      },
      "execution_count": null,
      "outputs": [
        {
          "output_type": "stream",
          "name": "stdout",
          "text": [
            "調整後的EnclosedPorch偏度(Skewness): 2.07, 峰度(Kurtosis): 2.63\n"
          ]
        },
        {
          "output_type": "display_data",
          "data": {
            "text/plain": [
              "<Figure size 432x288 with 1 Axes>"
            ],
            "image/png": "[encoded data removed]"
          },
          "metadata": {
            "needs_background": "light"
          }
        }
      ]
    },
    {
      "cell_type": "markdown",
      "source": [
        "## 處理3SsnPorch"
      ],
      "metadata": {
        "id": "HlsW4yEuCs79"
      }
    },
    {
      "cell_type": "code",
      "source": [
        "AutoFix(\"3SsnPorch\").draw()"
      ],
      "metadata": {
        "colab": {
          "base_uri": "https://localhost:8080/",
          "height": 296
        },
        "id": "vvjVTBB3Cumt",
        "outputId": "326aecef-34ac-4d4c-b515-e3542e357699"
      },
      "execution_count": null,
      "outputs": [
        {
          "output_type": "stream",
          "name": "stdout",
          "text": [
            "偏度(Skewness): 11.38, 峰度(Kurtosis): 149.41\n"
          ]
        },
        {
          "output_type": "display_data",
          "data": {
            "text/plain": [
              "<Figure size 432x288 with 1 Axes>"
            ],
            "image/png": "[encoded data removed]"
          },
          "metadata": {
            "needs_background": "light"
          }
        }
      ]
    },
    {
      "cell_type": "code",
      "source": [
        "AutoFix(\"3SsnPorch\").min()"
      ],
      "metadata": {
        "colab": {
          "base_uri": "https://localhost:8080/"
        },
        "id": "eOVTPGuGCxr8",
        "outputId": "9296d7da-09ea-4336-cf59-47b8dd8709c3"
      },
      "execution_count": null,
      "outputs": [
        {
          "output_type": "stream",
          "name": "stdout",
          "text": [
            "tq\n"
          ]
        }
      ]
    },
    {
      "cell_type": "code",
      "source": [
        "AutoFix(\"3SsnPorch\").tq()"
      ],
      "metadata": {
        "colab": {
          "base_uri": "https://localhost:8080/",
          "height": 296
        },
        "id": "5ovCuutEC09n",
        "outputId": "5a62138b-021a-4107-c815-4bb5bc58fc31"
      },
      "execution_count": null,
      "outputs": [
        {
          "output_type": "stream",
          "name": "stdout",
          "text": [
            "調整後的3SsnPorch偏度(Skewness): 9.02, 峰度(Kurtosis): 81.11\n"
          ]
        },
        {
          "output_type": "display_data",
          "data": {
            "text/plain": [
              "<Figure size 432x288 with 1 Axes>"
            ],
            "image/png": "[encoded data removed]"
          },
          "metadata": {
            "needs_background": "light"
          }
        }
      ]
    },
    {
      "cell_type": "markdown",
      "source": [
        "## 處理ScreenPorch"
      ],
      "metadata": {
        "id": "IFmDAuleC92j"
      }
    },
    {
      "cell_type": "code",
      "source": [
        "AutoFix(\"ScreenPorch\").draw()"
      ],
      "metadata": {
        "colab": {
          "base_uri": "https://localhost:8080/",
          "height": 296
        },
        "id": "0wZyP2nGC_xk",
        "outputId": "a5f74398-0da9-4c6b-9ee3-c6462c8fa3cb"
      },
      "execution_count": null,
      "outputs": [
        {
          "output_type": "stream",
          "name": "stdout",
          "text": [
            "偏度(Skewness): 3.95, 峰度(Kurtosis): 17.78\n"
          ]
        },
        {
          "output_type": "display_data",
          "data": {
            "text/plain": [
              "<Figure size 432x288 with 1 Axes>"
            ],
            "image/png": "[encoded data removed]"
          },
          "metadata": {
            "needs_background": "light"
          }
        }
      ]
    },
    {
      "cell_type": "code",
      "source": [
        "AutoFix(\"ScreenPorch\").min()"
      ],
      "metadata": {
        "colab": {
          "base_uri": "https://localhost:8080/"
        },
        "id": "zRn_ZeLFDCiT",
        "outputId": "66e1879b-a214-40f9-f132-1238e0396bef"
      },
      "execution_count": null,
      "outputs": [
        {
          "output_type": "stream",
          "name": "stdout",
          "text": [
            "tq\n"
          ]
        }
      ]
    },
    {
      "cell_type": "code",
      "source": [
        "AutoFix(\"ScreenPorch\").tq()"
      ],
      "metadata": {
        "colab": {
          "base_uri": "https://localhost:8080/",
          "height": 296
        },
        "id": "s19lpKUyDE7q",
        "outputId": "d874a0da-3426-43ba-9066-750dedbb24b1"
      },
      "execution_count": null,
      "outputs": [
        {
          "output_type": "stream",
          "name": "stdout",
          "text": [
            "調整後的ScreenPorch偏度(Skewness): 3.01, 峰度(Kurtosis): 7.31\n"
          ]
        },
        {
          "output_type": "display_data",
          "data": {
            "text/plain": [
              "<Figure size 432x288 with 1 Axes>"
            ],
            "image/png": "[encoded data removed]"
          },
          "metadata": {
            "needs_background": "light"
          }
        }
      ]
    },
    {
      "cell_type": "markdown",
      "source": [
        "## 處理PoolArea"
      ],
      "metadata": {
        "id": "BstSf9y1DXzs"
      }
    },
    {
      "cell_type": "code",
      "source": [
        "AutoFix(\"PoolArea\").draw()"
      ],
      "metadata": {
        "colab": {
          "base_uri": "https://localhost:8080/",
          "height": 296
        },
        "id": "5fc9-0MDDZWj",
        "outputId": "431e1ed9-c523-475f-f953-ebc0e3ba095d"
      },
      "execution_count": null,
      "outputs": [
        {
          "output_type": "stream",
          "name": "stdout",
          "text": [
            "偏度(Skewness): 16.91, 峰度(Kurtosis): 298.63\n"
          ]
        },
        {
          "output_type": "display_data",
          "data": {
            "text/plain": [
              "<Figure size 432x288 with 1 Axes>"
            ],
            "image/png": "[encoded data removed]"
          },
          "metadata": {
            "needs_background": "light"
          }
        }
      ]
    },
    {
      "cell_type": "code",
      "source": [
        "AutoFix(\"PoolArea\").min()"
      ],
      "metadata": {
        "colab": {
          "base_uri": "https://localhost:8080/"
        },
        "id": "e9VEmXm3De5U",
        "outputId": "80843de4-71a6-4fa4-f69e-bf000a9c611e"
      },
      "execution_count": null,
      "outputs": [
        {
          "output_type": "stream",
          "name": "stdout",
          "text": [
            "tq\n"
          ]
        }
      ]
    },
    {
      "cell_type": "code",
      "source": [
        "AutoFix(\"PoolArea\").tq()"
      ],
      "metadata": {
        "colab": {
          "base_uri": "https://localhost:8080/",
          "height": 296
        },
        "id": "Sw4NUgFIDhwj",
        "outputId": "47936b4b-b486-4cfc-caee-caf25084ff00"
      },
      "execution_count": null,
      "outputs": [
        {
          "output_type": "stream",
          "name": "stdout",
          "text": [
            "調整後的PoolArea偏度(Skewness): 15.27, 峰度(Kurtosis): 234.12\n"
          ]
        },
        {
          "output_type": "display_data",
          "data": {
            "text/plain": [
              "<Figure size 432x288 with 1 Axes>"
            ],
            "image/png": "[encoded data removed]"
          },
          "metadata": {
            "needs_background": "light"
          }
        }
      ]
    },
    {
      "cell_type": "markdown",
      "source": [
        "## 處理MiscVal"
      ],
      "metadata": {
        "id": "oQpaTbcqDrqK"
      }
    },
    {
      "cell_type": "code",
      "source": [
        "AutoFix(\"MiscVal\").draw()"
      ],
      "metadata": {
        "colab": {
          "base_uri": "https://localhost:8080/",
          "height": 296
        },
        "id": "1gCUyjpJDtKy",
        "outputId": "fd54813d-5c8f-4c9d-9915-e902f1bdd045"
      },
      "execution_count": null,
      "outputs": [
        {
          "output_type": "stream",
          "name": "stdout",
          "text": [
            "偏度(Skewness): 21.96, 峰度(Kurtosis): 564.07\n"
          ]
        },
        {
          "output_type": "display_data",
          "data": {
            "text/plain": [
              "<Figure size 432x288 with 1 Axes>"
            ],
            "image/png": "[encoded data removed]"
          },
          "metadata": {
            "needs_background": "light"
          }
        }
      ]
    },
    {
      "cell_type": "code",
      "source": [
        "AutoFix(\"MiscVal\").min()"
      ],
      "metadata": {
        "colab": {
          "base_uri": "https://localhost:8080/"
        },
        "id": "sp313vzEDyEB",
        "outputId": "7d19b7c9-9a95-46e3-9cbd-a2fd4b38cf9c"
      },
      "execution_count": null,
      "outputs": [
        {
          "output_type": "stream",
          "name": "stdout",
          "text": [
            "tq\n"
          ]
        }
      ]
    },
    {
      "cell_type": "code",
      "source": [
        "AutoFix(\"MiscVal\").tq()"
      ],
      "metadata": {
        "colab": {
          "base_uri": "https://localhost:8080/",
          "height": 296
        },
        "id": "tavv-pBZD0ha",
        "outputId": "37b4b507-0002-4986-b005-f54f327a0bcb"
      },
      "execution_count": null,
      "outputs": [
        {
          "output_type": "stream",
          "name": "stdout",
          "text": [
            "調整後的MiscVal偏度(Skewness): 6.62, 峰度(Kurtosis): 52.16\n"
          ]
        },
        {
          "output_type": "display_data",
          "data": {
            "text/plain": [
              "<Figure size 432x288 with 1 Axes>"
            ],
            "image/png": "[encoded data removed]"
          },
          "metadata": {
            "needs_background": "light"
          }
        }
      ]
    },
    {
      "cell_type": "markdown",
      "source": [
        "## 使用Zscore正規化"
      ],
      "metadata": {
        "id": "1-WISZWGFDKf"
      }
    },
    {
      "cell_type": "code",
      "source": [
        "zscore_list = [\n",
        "          \"LotFrontage\", \"LotArea\", \"MasVnrArea\", \"BsmtFinSF1\", \"BsmtFinSF2\",\n",
        "          \"BsmtUnfSF\", \"TotalBsmtSF\", \"1stFlrSF\", \"2ndFlrSF\", \"LowQualFinSF\",\n",
        "          \"GrLivArea\", \"GarageArea\", \"WoodDeckSF\",\"OpenPorchSF\", \"EnclosedPorch\",\t\n",
        "          \"3SsnPorch\", \"ScreenPorch\", \"PoolArea\", \"MiscVal\"\n",
        "        ]"
      ],
      "metadata": {
        "id": "IAaLr--lJS-R"
      },
      "execution_count": null,
      "outputs": []
    },
    {
      "cell_type": "code",
      "source": [
        "from sklearn import preprocessing\n",
        "\n",
        "def AutoZ(list_name):\n",
        "  \n",
        "  # 建立StandardScaler物件\n",
        "  zscore = preprocessing.StandardScaler()\n",
        "\n",
        "  for i in range(len(list_name)):\n",
        "\n",
        "    values = alldf[list_name[i]].values\n",
        "    values = values.reshape(len(values), 1)\n",
        "\n",
        "    alldf[list_name[i]] = zscore.fit_transform(values)"
      ],
      "metadata": {
        "id": "lHK_FiugLijT"
      },
      "execution_count": null,
      "outputs": []
    },
    {
      "cell_type": "code",
      "source": [
        "AutoZ(zscore_list)"
      ],
      "metadata": {
        "id": "aiNQ7B4SMvNv"
      },
      "execution_count": null,
      "outputs": []
    },
    {
      "cell_type": "markdown",
      "source": [
        "# 有程度區分的類別資料做Label Encoding"
      ],
      "metadata": {
        "id": "lffaMy2H6RF1"
      }
    },
    {
      "cell_type": "markdown",
      "source": [
        "## MSSubClass、OverallQual、OverallCond不處理"
      ],
      "metadata": {
        "id": "h9rbZTKv-ROF"
      }
    },
    {
      "cell_type": "markdown",
      "source": [
        "## 處理Utilities"
      ],
      "metadata": {
        "id": "UN1IxZc4ECG8"
      }
    },
    {
      "cell_type": "code",
      "source": [
        "# le函式\n",
        "\n",
        "def le(ori, f_list):\n",
        "\n",
        "  chg = [i for i in range(len(ori))]\n",
        "\n",
        "  for f in f_list:\n",
        "\n",
        "    alldf[f].replace(ori, chg, inplace=True)"
      ],
      "metadata": {
        "id": "nz904Zw_pFU0"
      },
      "execution_count": null,
      "outputs": []
    },
    {
      "cell_type": "code",
      "source": [
        "ori = [\"NoSeWa\", \"AllPub\"]\n",
        "f_list = [\"Utilities\"]\n",
        "\n",
        "le(ori, f_list)"
      ],
      "metadata": {
        "id": "I1MERfByp8Uy"
      },
      "execution_count": null,
      "outputs": []
    },
    {
      "cell_type": "markdown",
      "source": [
        "## 處理ExterQual、ExterCond、HeatingQC、KitchenQual"
      ],
      "metadata": {
        "id": "ELsjeeTOExKc"
      }
    },
    {
      "cell_type": "code",
      "source": [
        "ori = [\"Po\", \"Fa\", \"TA\", \"Gd\", \"Ex\"]\n",
        "f_list = [\"ExterQual\", \"ExterCond\", \"HeatingQC\", \"KitchenQual\"]\n",
        "\n",
        "le(ori, f_list)"
      ],
      "metadata": {
        "id": "TxRbum7avgao"
      },
      "execution_count": null,
      "outputs": []
    },
    {
      "cell_type": "markdown",
      "source": [
        "## 處理BsmtQual、BsmtCond"
      ],
      "metadata": {
        "id": "EcipbNw9Fi7I"
      }
    },
    {
      "cell_type": "code",
      "source": [
        "ori = [\"NoBsmt\", \"Po\", \"Fa\", \"TA\", \"Gd\", \"Ex\"]\n",
        "f_list = [\"BsmtQual\", \"BsmtCond\"]\n",
        "\n",
        "le(ori, f_list)"
      ],
      "metadata": {
        "id": "MKHYz8jNwKtH"
      },
      "execution_count": null,
      "outputs": []
    },
    {
      "cell_type": "markdown",
      "source": [
        "## 處理FireplaceQu"
      ],
      "metadata": {
        "id": "GHvMvxzBxeyB"
      }
    },
    {
      "cell_type": "code",
      "source": [
        "ori = [\"NoFireplace\", \"Po\", \"Fa\", \"TA\", \"Gd\", \"Ex\"]\n",
        "f_list = [\"FireplaceQu\"]\n",
        "\n",
        "le(ori, f_list)"
      ],
      "metadata": {
        "id": "v2hWhC7TxeyB"
      },
      "execution_count": null,
      "outputs": []
    },
    {
      "cell_type": "markdown",
      "source": [
        "## 處理GarageQual、GarageCond"
      ],
      "metadata": {
        "id": "rn6WhhdaxrjX"
      }
    },
    {
      "cell_type": "code",
      "source": [
        "ori = [\"NoGarage\", \"Po\", \"Fa\", \"TA\", \"Gd\", \"Ex\"]\n",
        "f_list = [\"GarageQual\", \"GarageCond\"]\n",
        "\n",
        "le(ori, f_list)"
      ],
      "metadata": {
        "id": "xo1PUKToxrjY"
      },
      "execution_count": null,
      "outputs": []
    },
    {
      "cell_type": "markdown",
      "source": [
        "## 處理BsmtExposure"
      ],
      "metadata": {
        "id": "t52W958TGM7P"
      }
    },
    {
      "cell_type": "code",
      "source": [
        "ori = [\"NoBsmt\", \"No\", \"Mn\", \"Av\", \"Gd\"]\n",
        "f_list = [\"BsmtExposure\"]\n",
        "\n",
        "le(ori, f_list)"
      ],
      "metadata": {
        "id": "HR6dyHFVyxW4"
      },
      "execution_count": null,
      "outputs": []
    },
    {
      "cell_type": "code",
      "source": [
        "alldf[\"BsmtExposure\"].value_counts()"
      ],
      "metadata": {
        "colab": {
          "base_uri": "https://localhost:8080/"
        },
        "id": "1J_j3eHry7ng",
        "outputId": "62353515-9882-4f36-ee23-f4be077c4f0e"
      },
      "execution_count": null,
      "outputs": [
        {
          "output_type": "execute_result",
          "data": {
            "text/plain": [
              "1    1904\n",
              "3     418\n",
              "4     276\n",
              "2     239\n",
              "0      82\n",
              "Name: BsmtExposure, dtype: int64"
            ]
          },
          "metadata": {},
          "execution_count": 91
        }
      ]
    },
    {
      "cell_type": "markdown",
      "source": [
        "## 處理BsmtFinType1"
      ],
      "metadata": {
        "id": "9Mcdxf16Ge_Z"
      }
    },
    {
      "cell_type": "code",
      "source": [
        "ori = [\"NoBsmt\", \"Unf\", \"LwQ\", \"Rec\", \"BLQ\", \"ALQ\", \"GLQ\"]\n",
        "f_list = [\"BsmtFinType1\"]\n",
        "\n",
        "le(ori, f_list)"
      ],
      "metadata": {
        "id": "1xP1yUMIzKsT"
      },
      "execution_count": null,
      "outputs": []
    },
    {
      "cell_type": "code",
      "source": [
        "alldf[\"BsmtFinType1\"].value_counts()"
      ],
      "metadata": {
        "colab": {
          "base_uri": "https://localhost:8080/"
        },
        "outputId": "29e8eb14-a39a-4b86-868d-49598f346f84",
        "id": "U1VjuL7rzKsT"
      },
      "execution_count": null,
      "outputs": [
        {
          "output_type": "execute_result",
          "data": {
            "text/plain": [
              "1    851\n",
              "6    849\n",
              "5    429\n",
              "3    288\n",
              "4    269\n",
              "2    154\n",
              "0     79\n",
              "Name: BsmtFinType1, dtype: int64"
            ]
          },
          "metadata": {},
          "execution_count": 93
        }
      ]
    },
    {
      "cell_type": "markdown",
      "source": [
        "## 處理BsmtFinType2"
      ],
      "metadata": {
        "id": "Dbs9zxrGUiTG"
      }
    },
    {
      "cell_type": "code",
      "source": [
        "ori = [\"NoBsmt\", \"Unf\", \"LwQ\", \"Rec\", \"BLQ\", \"ALQ\", \"GLQ\"]\n",
        "f_list = [\"BsmtFinType2\"]\n",
        "\n",
        "le(ori, f_list)"
      ],
      "metadata": {
        "id": "nBEGUUOeUy1B"
      },
      "execution_count": null,
      "outputs": []
    },
    {
      "cell_type": "code",
      "source": [
        "alldf[\"BsmtFinType2\"].value_counts()"
      ],
      "metadata": {
        "colab": {
          "base_uri": "https://localhost:8080/"
        },
        "id": "6XulLYwAUsuJ",
        "outputId": "0ffbed44-1e02-4363-89a5-b4fe97ed4776"
      },
      "execution_count": null,
      "outputs": [
        {
          "output_type": "execute_result",
          "data": {
            "text/plain": [
              "1    2493\n",
              "3     105\n",
              "2      87\n",
              "0      80\n",
              "4      68\n",
              "5      52\n",
              "6      34\n",
              "Name: BsmtFinType2, dtype: int64"
            ]
          },
          "metadata": {},
          "execution_count": 95
        }
      ]
    },
    {
      "cell_type": "markdown",
      "source": [
        "## 處理Electrical"
      ],
      "metadata": {
        "id": "cNbO3sYnHEwY"
      }
    },
    {
      "cell_type": "code",
      "source": [
        "ori = [\"Mix\", \"FuseP\", \"FuseF\", \"FuseA\", \"SBrkr\"]\n",
        "f_list = [\"Electrical\"]\n",
        "\n",
        "le(ori, f_list)"
      ],
      "metadata": {
        "id": "LTcTqWkqzau6"
      },
      "execution_count": null,
      "outputs": []
    },
    {
      "cell_type": "code",
      "source": [
        "alldf[\"Electrical\"].value_counts()"
      ],
      "metadata": {
        "colab": {
          "base_uri": "https://localhost:8080/"
        },
        "outputId": "5967698d-7b0d-4eef-800b-c3ca13575039",
        "id": "dVkA2dLezau6"
      },
      "execution_count": null,
      "outputs": [
        {
          "output_type": "execute_result",
          "data": {
            "text/plain": [
              "4    2672\n",
              "3     188\n",
              "2      50\n",
              "1       8\n",
              "0       1\n",
              "Name: Electrical, dtype: int64"
            ]
          },
          "metadata": {},
          "execution_count": 97
        }
      ]
    },
    {
      "cell_type": "markdown",
      "source": [
        "## 處理Functional"
      ],
      "metadata": {
        "id": "iLKe5gaiHb4y"
      }
    },
    {
      "cell_type": "code",
      "source": [
        "ori = [\"Sal\", \"Sev\", \"Maj2\", \"Maj1\", \"Mod\", \"Min2\", \"Min1\", \"Typ\"]\n",
        "f_list = [\"Functional\"]\n",
        "\n",
        "le(ori, f_list)"
      ],
      "metadata": {
        "id": "jZplb0xyznid"
      },
      "execution_count": null,
      "outputs": []
    },
    {
      "cell_type": "code",
      "source": [
        "alldf[\"Functional\"].value_counts()"
      ],
      "metadata": {
        "colab": {
          "base_uri": "https://localhost:8080/"
        },
        "outputId": "9f5cc7ff-71dd-41b4-efca-d2d70f3b2ff7",
        "id": "P7706y5mznid"
      },
      "execution_count": null,
      "outputs": [
        {
          "output_type": "execute_result",
          "data": {
            "text/plain": [
              "7    2719\n",
              "5      70\n",
              "6      65\n",
              "4      35\n",
              "3      19\n",
              "2       9\n",
              "1       2\n",
              "Name: Functional, dtype: int64"
            ]
          },
          "metadata": {},
          "execution_count": 99
        }
      ]
    },
    {
      "cell_type": "markdown",
      "source": [
        "## 處理GarageFinish"
      ],
      "metadata": {
        "id": "9at6J3P6LnFT"
      }
    },
    {
      "cell_type": "code",
      "source": [
        "ori = [\"NoGarage\", \"Unf\", \"RFn\", \"Fin\"]\n",
        "f_list = [\"GarageFinish\"]\n",
        "\n",
        "le(ori, f_list)"
      ],
      "metadata": {
        "id": "uKWAoEQh0OgI"
      },
      "execution_count": null,
      "outputs": []
    },
    {
      "cell_type": "code",
      "source": [
        "alldf[\"GarageFinish\"].value_counts()"
      ],
      "metadata": {
        "colab": {
          "base_uri": "https://localhost:8080/"
        },
        "outputId": "a6a7064f-af04-47b7-aa05-77102a3d3075",
        "id": "Wj-kwyzo0OgI"
      },
      "execution_count": null,
      "outputs": [
        {
          "output_type": "execute_result",
          "data": {
            "text/plain": [
              "1    1230\n",
              "2     811\n",
              "3     719\n",
              "0     159\n",
              "Name: GarageFinish, dtype: int64"
            ]
          },
          "metadata": {},
          "execution_count": 101
        }
      ]
    },
    {
      "cell_type": "markdown",
      "source": [
        "## 處理PoolQC"
      ],
      "metadata": {
        "id": "XTE_fE4kMPXH"
      }
    },
    {
      "cell_type": "code",
      "source": [
        "ori = [\"NoPool\", \"Fa\", \"TA\", \"Gd\", \"Ex\"]\n",
        "f_list = [\"PoolQC\"]\n",
        "\n",
        "le(ori, f_list)"
      ],
      "metadata": {
        "id": "a46ab7zj4WNb"
      },
      "execution_count": null,
      "outputs": []
    },
    {
      "cell_type": "code",
      "source": [
        "alldf[\"PoolQC\"].value_counts()"
      ],
      "metadata": {
        "colab": {
          "base_uri": "https://localhost:8080/"
        },
        "outputId": "721878a4-a576-4719-cac6-7cb0395028fe",
        "id": "DZME6KN04WNc"
      },
      "execution_count": null,
      "outputs": [
        {
          "output_type": "execute_result",
          "data": {
            "text/plain": [
              "0    2909\n",
              "4       4\n",
              "3       4\n",
              "1       2\n",
              "Name: PoolQC, dtype: int64"
            ]
          },
          "metadata": {},
          "execution_count": 103
        }
      ]
    },
    {
      "cell_type": "markdown",
      "source": [
        "## 處理Fence"
      ],
      "metadata": {
        "id": "PJ4l1pBOMdJK"
      }
    },
    {
      "cell_type": "code",
      "source": [
        "ori = [\"NoFence\", \"MnWw\", \"GdWo\", \"MnPrv\", \"GdPrv\"]\n",
        "f_list = [\"Fence\"]\n",
        "\n",
        "le(ori, f_list)"
      ],
      "metadata": {
        "id": "u5UhLaJY4psS"
      },
      "execution_count": null,
      "outputs": []
    },
    {
      "cell_type": "code",
      "source": [
        "alldf[\"Fence\"].value_counts()"
      ],
      "metadata": {
        "colab": {
          "base_uri": "https://localhost:8080/"
        },
        "outputId": "f759465e-6eb0-47a8-c97f-a17fc4b13375",
        "id": "OOktnYkM4psT"
      },
      "execution_count": null,
      "outputs": [
        {
          "output_type": "execute_result",
          "data": {
            "text/plain": [
              "0    2348\n",
              "3     329\n",
              "4     118\n",
              "2     112\n",
              "1      12\n",
              "Name: Fence, dtype: int64"
            ]
          },
          "metadata": {},
          "execution_count": 105
        }
      ]
    },
    {
      "cell_type": "markdown",
      "source": [
        "# 處理沒有程度區分的類別資料"
      ],
      "metadata": {
        "id": "mLEcnM_g_qKW"
      }
    },
    {
      "cell_type": "code",
      "source": [
        "\"\"\"\n",
        "【使用OHE】\n",
        "Condition1, Condition2 有一樣的值，可能要合併\n",
        "Exterior1st, Exterior2nd 有一樣的值，可能要合併\n",
        "MoSold 銷售月份1~12\n",
        "YrSold(2006~2010)\n",
        "\n",
        "【使用Bucketing(桶分類)】\n",
        "YearBuilt(1872~2010) YearRemodAdd(1950~2010) GarageYrBlt(1895~2010)\n",
        "\n",
        "桶分類 https://hackmd.io/@Zero871015/pythonNote-2#Bucketing%E6%A1%B6%E5%88%86%E9%A1%9E\n",
        "\"\"\""
      ],
      "metadata": {
        "id": "Agg--n3N-Bxk",
        "colab": {
          "base_uri": "https://localhost:8080/",
          "height": 70
        },
        "outputId": "a94f5203-ae2c-4549-b885-ca0680ad6825"
      },
      "execution_count": null,
      "outputs": [
        {
          "output_type": "execute_result",
          "data": {
            "text/plain": [
              "'\\n【使用OHE】\\nCondition1, Condition2 有一樣的值，可能要合併\\nExterior1st, Exterior2nd 有一樣的值，可能要合併\\nMoSold 銷售月份1~12\\nYrSold(2006~2010)\\n\\n【使用Bucketing(桶分類)】\\nYearBuilt(1872~2010) YearRemodAdd(1950~2010) GarageYrBlt(1895~2010)\\n\\n桶分類 https://hackmd.io/@Zero871015/pythonNote-2#Bucketing%E6%A1%B6%E5%88%86%E9%A1%9E\\n'"
            ],
            "application/vnd.google.colaboratory.intrinsic+json": {
              "type": "string"
            }
          },
          "metadata": {},
          "execution_count": 106
        }
      ]
    },
    {
      "cell_type": "code",
      "source": [
        "# 未改建(YearRemodAdd)數量為1560個\n",
        "\n",
        "c = 0\n",
        "for i in range(len(alldf)):\n",
        "  if alldf[\"YearBuilt\"][i] == alldf[\"YearRemodAdd\"][i]:\n",
        "    c += 1\n",
        "\n",
        "c"
      ],
      "metadata": {
        "colab": {
          "base_uri": "https://localhost:8080/"
        },
        "id": "rkV1mzVYaYj9",
        "outputId": "0bc5929c-1a2a-4683-c5b3-7c4e135158fb"
      },
      "execution_count": null,
      "outputs": [
        {
          "output_type": "execute_result",
          "data": {
            "text/plain": [
              "1560"
            ]
          },
          "metadata": {},
          "execution_count": 107
        }
      ]
    },
    {
      "cell_type": "markdown",
      "source": [
        "## 使用OHE處理\"MSZoning\", \"Street\", \"Alley\", \"LotShape\", \"LandContour\", \"LotConfig\", \"LandSlope\", \"Neighborhood\", \"BldgType\", \"HouseStyle\", \"RoofStyle\", \"RoofMatl\", \"MasVnrType\", \"Foundation\", \"Heating\", \"CentralAir\", \"GarageType\", \"PavedDrive\", \"MiscFeature\", \"SaleType\", \"SaleCondition\", \"Condition1\", \"Condition2\", \"Exterior1st\", \"Exterior2nd\", \"MoSold\", \"YrSold\""
      ],
      "metadata": {
        "id": "nTJdo_8ScXUH"
      }
    },
    {
      "cell_type": "code",
      "source": [
        "alldf[\"YrSold\"] = alldf[\"YrSold\"].astype(str)"
      ],
      "metadata": {
        "id": "Ph5C9zEsfv0n"
      },
      "execution_count": null,
      "outputs": []
    },
    {
      "cell_type": "code",
      "source": [
        "alldf[\"MoSold\"] = alldf[\"MoSold\"].astype(str)"
      ],
      "metadata": {
        "id": "SXPlTAx-hK5g"
      },
      "execution_count": null,
      "outputs": []
    },
    {
      "cell_type": "code",
      "source": [
        "alldf_dum = pd.get_dummies(alldf[[\"MSZoning\", \"Street\", \"Alley\", \"LotShape\", \"LandContour\", \n",
        "                  \"LotConfig\", \"LandSlope\", \"Neighborhood\", \"BldgType\", \"HouseStyle\", \n",
        "                  \"RoofStyle\", \"RoofMatl\", \"MasVnrType\", \"Foundation\", \"Heating\", \n",
        "                  \"CentralAir\", \"GarageType\", \"PavedDrive\", \"MiscFeature\", \"SaleType\", \n",
        "                  \"SaleCondition\", \"Condition1\", \"Condition2\", \"Exterior1st\", \"Exterior2nd\", \n",
        "                  \"MoSold\", \"YrSold\"]])"
      ],
      "metadata": {
        "id": "CKfRs2wjKNdC"
      },
      "execution_count": null,
      "outputs": []
    },
    {
      "cell_type": "code",
      "source": [
        "alldf = pd.concat([alldf, alldf_dum], axis = 1)"
      ],
      "metadata": {
        "id": "8YcaM4xFPbMw"
      },
      "execution_count": null,
      "outputs": []
    },
    {
      "cell_type": "code",
      "source": [
        "alldf = alldf.drop([\"MSZoning\", \"Street\", \"Alley\", \"LotShape\", \"LandContour\", \n",
        "          \"LotConfig\", \"LandSlope\", \"Neighborhood\", \"BldgType\", \"HouseStyle\", \n",
        "          \"RoofStyle\", \"RoofMatl\", \"MasVnrType\", \"Foundation\", \"Heating\", \n",
        "          \"CentralAir\", \"GarageType\", \"PavedDrive\", \"MiscFeature\", \"SaleType\", \n",
        "          \"SaleCondition\", \"Condition1\", \"Condition2\", \"Exterior1st\", \"Exterior2nd\", \n",
        "          \"MoSold\", \"YrSold\"], axis = 1)"
      ],
      "metadata": {
        "id": "ZVkil7sdPmFf"
      },
      "execution_count": null,
      "outputs": []
    },
    {
      "cell_type": "markdown",
      "source": [
        "## 使用桶分類處理\"YearBuilt\", \"YearRemodAdd\", \"GarageYrBlt\""
      ],
      "metadata": {
        "id": "M4DC7p2bcdUo"
      }
    },
    {
      "cell_type": "code",
      "source": [
        "# 將GarageYrBlt的資料由小數改為整數\n",
        "\n",
        "alldf[\"GarageYrBlt\"] = alldf[\"GarageYrBlt\"].astype(int)"
      ],
      "metadata": {
        "id": "dFuyi7aHZYlf"
      },
      "execution_count": null,
      "outputs": []
    },
    {
      "cell_type": "code",
      "source": [
        "# 修改誤植資料\n",
        "\n",
        "for i in range(len(alldf)):\n",
        "  if alldf[\"GarageYrBlt\"][i] == 2207:\n",
        "    # print(alldf.iloc[i])\n",
        "    alldf.at[i, \"GarageYrBlt\"] = 2007"
      ],
      "metadata": {
        "id": "Cog5om8JUn_B"
      },
      "execution_count": null,
      "outputs": []
    },
    {
      "cell_type": "code",
      "source": [
        "bins = [i for i in range(1870, 2020, 10)]\n",
        "labels = [str(i) + \"s\" for i in range(1870, 2010, 10)]"
      ],
      "metadata": {
        "id": "F9_WS0nCREh9"
      },
      "execution_count": null,
      "outputs": []
    },
    {
      "cell_type": "code",
      "source": [
        "# 使用pd.cut將年切分為14等份\n",
        "\n",
        "yrlist = [\"YearBuilt\", \"YearRemodAdd\", \"GarageYrBlt\"]\n",
        "\n",
        "for i in yrlist:\n",
        "  alldf[i] = pd.cut(\n",
        "                alldf[i], \n",
        "                bins = bins, \n",
        "                labels = labels, \n",
        "                include_lowest = True\n",
        "                )"
      ],
      "metadata": {
        "id": "izuX1THWSNeu"
      },
      "execution_count": null,
      "outputs": []
    },
    {
      "cell_type": "code",
      "source": [
        "alldf_dum = pd.get_dummies(alldf[yrlist])"
      ],
      "metadata": {
        "id": "g0mfw1fCd0aj"
      },
      "execution_count": null,
      "outputs": []
    },
    {
      "cell_type": "code",
      "source": [
        "alldf = pd.concat([alldf, alldf_dum], axis = 1)"
      ],
      "metadata": {
        "id": "TuoeS4nqd680"
      },
      "execution_count": null,
      "outputs": []
    },
    {
      "cell_type": "code",
      "source": [
        "alldf = alldf.drop(yrlist, axis = 1)"
      ],
      "metadata": {
        "id": "LgphNa9-d681"
      },
      "execution_count": null,
      "outputs": []
    },
    {
      "cell_type": "markdown",
      "source": [
        "# 建立模型"
      ],
      "metadata": {
        "id": "nQhny-YAAv5f"
      }
    },
    {
      "cell_type": "markdown",
      "source": [
        "## 訓練資料"
      ],
      "metadata": {
        "id": "v2IZsAP0CBFC"
      }
    },
    {
      "cell_type": "code",
      "source": [
        "# 訓練資料題目\n",
        "\n",
        "x = alldf.iloc[:len(traindf)]\n",
        "x = np.array(x)"
      ],
      "metadata": {
        "id": "7xSQuevSAvX4"
      },
      "execution_count": null,
      "outputs": []
    },
    {
      "cell_type": "code",
      "source": [
        "# 訓練資料答案\n",
        "\n",
        "y = traindf[\"SalePrice\"]\n",
        "y = np.array(y)"
      ],
      "metadata": {
        "id": "yWywk1f_BuJ6"
      },
      "execution_count": null,
      "outputs": []
    },
    {
      "cell_type": "markdown",
      "source": [
        "## 驗證資料"
      ],
      "metadata": {
        "id": "h9zpmm4CCL3c"
      }
    },
    {
      "cell_type": "code",
      "source": [
        "# 驗證資料題目\n",
        "\n",
        "x_pred = alldf.iloc[len(traindf):]\n",
        "x_pred = np.array(x_pred)"
      ],
      "metadata": {
        "id": "7cl3EtTgCKNt"
      },
      "execution_count": null,
      "outputs": []
    },
    {
      "cell_type": "markdown",
      "source": [
        "## 模型"
      ],
      "metadata": {
        "id": "wUvSzIKpDCe_"
      }
    },
    {
      "cell_type": "markdown",
      "source": [
        "## RandomForestRegressor"
      ],
      "metadata": {
        "id": "KcjQBPD_RRl0"
      }
    },
    {
      "cell_type": "code",
      "source": [
        "# from sklearn.model_selection import GridSearchCV\n",
        "# from sklearn.ensemble import RandomForestRegressor\n",
        "\n",
        "# reg = RandomForestRegressor()\n",
        "\n",
        "# params = {\n",
        "#     \"max_depth\": range(3, 10),\n",
        "#     \"n_estimators\": range(11, 150, 2)\n",
        "#       }\n",
        "\n",
        "# search = GridSearchCV(\n",
        "#               reg, \n",
        "#               params, \n",
        "#               cv = 10, \n",
        "#               n_jobs = -1\n",
        "#             )\n",
        "\n",
        "# search.fit(x,y)\n",
        "\n",
        "# print(f\"最佳分數: {search.best_score_}, 最佳參數: {search.best_params_}\")"
      ],
      "metadata": {
        "id": "rJl1SirWDELj"
      },
      "execution_count": null,
      "outputs": []
    },
    {
      "cell_type": "code",
      "source": [
        "from sklearn.ensemble import RandomForestRegressor\n",
        "from sklearn.model_selection import cross_val_score\n",
        "import numpy as np\n",
        "\n",
        "reg = RandomForestRegressor(max_depth=9, n_estimators=145)  # 設置隨機森林模型\n",
        "np.average(cross_val_score(reg, x, y, cv=10))  # 交叉驗證"
      ],
      "metadata": {
        "colab": {
          "base_uri": "https://localhost:8080/"
        },
        "id": "VetxKKvD6u_H",
        "outputId": "72756d5a-6ae9-4216-8f68-103e9555c61e"
      },
      "execution_count": null,
      "outputs": [
        {
          "output_type": "execute_result",
          "data": {
            "text/plain": [
              "0.8640980439535142"
            ]
          },
          "metadata": {},
          "execution_count": 124
        }
      ]
    },
    {
      "cell_type": "code",
      "source": [
        "# reg = search.best_estimator_\n",
        "\n",
        "# # 預測驗證資料\n",
        "# pre = reg.predict(x_pred)\n",
        "\n",
        "# # 將預測結果做成表格\n",
        "# res = pd.DataFrame({\"Id\": testdf[\"Id\"], \"SalePrice\": pre})\n",
        "\n",
        "# # res.to_csv(\"sub_230209.csv\", encoding = \"utf-8\", index = False)"
      ],
      "metadata": {
        "id": "fSJ7pYk1NQqa"
      },
      "execution_count": null,
      "outputs": []
    },
    {
      "cell_type": "markdown",
      "source": [
        "## DecisionTreeRegressor"
      ],
      "metadata": {
        "id": "caIM9F04TRIf"
      }
    },
    {
      "cell_type": "code",
      "source": [
        "from sklearn.tree import DecisionTreeRegressor\n",
        "from sklearn.model_selection import GridSearchCV\n",
        "\n",
        "reg = DecisionTreeRegressor()\n",
        "\n",
        "params = {\n",
        "    \"max_depth\":range(3, 50)\n",
        "}\n",
        "search = GridSearchCV(reg, params, cv=10, n_jobs=-1)\n",
        "search.fit(x, y)\n",
        "\n",
        "print(search.best_score_)\n",
        "print(search.best_params_)"
      ],
      "metadata": {
        "colab": {
          "base_uri": "https://localhost:8080/"
        },
        "id": "iKU3nmRpTahQ",
        "outputId": "b17cddc1-3b5b-461a-e8c2-0680f11f2bcd"
      },
      "execution_count": null,
      "outputs": [
        {
          "output_type": "stream",
          "name": "stdout",
          "text": [
            "0.7786368494787297\n",
            "{'max_depth': 9}\n"
          ]
        }
      ]
    },
    {
      "cell_type": "code",
      "source": [
        "from sklearn.model_selection import cross_val_score\n",
        "\n",
        "reg = DecisionTreeRegressor(max_depth = 9)\n",
        "\n",
        "scores = cross_val_score(reg, x, y, cv = 10, n_jobs = -1)\n",
        "\n",
        "print(scores)\n",
        "print(f\"avg: {np.average(scores)}\")"
      ],
      "metadata": {
        "colab": {
          "base_uri": "https://localhost:8080/"
        },
        "id": "CKj_6HNNWAN9",
        "outputId": "1042e2bb-703f-4d01-f339-70fcebe5d39f"
      },
      "execution_count": null,
      "outputs": [
        {
          "output_type": "stream",
          "name": "stdout",
          "text": [
            "[0.76524442 0.77918264 0.7727775  0.73191739 0.84614608 0.81471529\n",
            " 0.83332734 0.80656127 0.6725806  0.74344778]\n",
            "avg: 0.7765900321284086\n"
          ]
        }
      ]
    },
    {
      "cell_type": "markdown",
      "source": [
        "## Stacking"
      ],
      "metadata": {
        "id": "1hFyBTj6a0SM"
      }
    },
    {
      "cell_type": "code",
      "source": [
        "from sklearn.linear_model import LinearRegression\n",
        "from sklearn.tree import DecisionTreeRegressor\n",
        "from sklearn.ensemble import RandomForestRegressor\n",
        "from sklearn import svm\n",
        "from sklearn.neighbors import KNeighborsRegressor\n",
        "from sklearn.ensemble import StackingRegressor\n",
        "from sklearn.neural_network import MLPRegressor\n",
        "\n",
        "\n",
        "estimators = [\n",
        "    ('rf', RandomForestRegressor(random_state = 42)),\n",
        "    ('svr', svm.SVR()),\n",
        "    ('knn', KNeighborsRegressor()),\n",
        "    ('dt', DecisionTreeRegressor(random_state = 42))\n",
        "]\n",
        "reg = StackingRegressor(\n",
        "    estimators=estimators, final_estimator= MLPRegressor(activation = \"relu\", alpha = 0.1, hidden_layer_sizes = (8,8),\n",
        "                            learning_rate = \"constant\", max_iter = 2000, random_state = 1000)\n",
        ")\n",
        "\n",
        "reg.fit(x, y)\n",
        "\n",
        "reg.score(x, y)"
      ],
      "metadata": {
        "colab": {
          "base_uri": "https://localhost:8080/"
        },
        "id": "sJUeQf2zaz5_",
        "outputId": "d72d0355-03c8-4a65-b36c-64e89853f398"
      },
      "execution_count": null,
      "outputs": [
        {
          "output_type": "execute_result",
          "data": {
            "text/plain": [
              "0.9726780236773891"
            ]
          },
          "metadata": {},
          "execution_count": 128
        }
      ]
    },
    {
      "cell_type": "code",
      "source": [
        "# 預測驗證資料\n",
        "pre = reg.predict(x_pred)\n",
        "\n",
        "# 將預測結果做成表格\n",
        "res = pd.DataFrame({\"Id\": testdf[\"Id\"], \"SalePrice\": pre})\n",
        "\n",
        "# res.to_csv(\"sub_230209_2.csv\", encoding = \"utf-8\", index = False)"
      ],
      "metadata": {
        "id": "tGo6XdZycQFr"
      },
      "execution_count": null,
      "outputs": []
    },
    {
      "cell_type": "markdown",
      "source": [
        "# 繼續"
      ],
      "metadata": {
        "id": "cQPVmsRm1bvs"
      }
    },
    {
      "cell_type": "markdown",
      "metadata": {
        "id": "vhHJUyFpLJyA"
      },
      "source": [
        "\n",
        "\n",
        "1.   補缺失值(數值，類別) OK\n",
        "2.   查看數值特徵分佈，正規化處理 OK\n",
        "3.   將類別轉one-hot OK\n",
        "4.   處理其他特徵\n",
        "\n"
      ]
    },
    {
      "cell_type": "code",
      "execution_count": null,
      "metadata": {
        "id": "VzjS1LIBJVP6"
      },
      "outputs": [],
      "source": [
        "# for i in range(len(alldf)):\n",
        "#   if alldf[\"MiscFeature\"][i] == \"TenC\":\n",
        "#     print(alldf.iloc[i])"
      ]
    },
    {
      "cell_type": "markdown",
      "source": [
        "# 略"
      ],
      "metadata": {
        "id": "uy8pEWKW0lx9"
      }
    },
    {
      "cell_type": "code",
      "source": [
        "# # 將原本的偏度峰度與轉換後的做比較\n",
        "\n",
        "# from scipy.stats import boxcox\n",
        "\n",
        "# def fix(name):\n",
        "\n",
        "#   ori_skew = alldf[name].skew()\n",
        "#   ori_kurt = alldf[name].kurt()\n",
        "\n",
        "#   skew_list, kurt_list = [], []\n",
        "\n",
        "#   if ori_skew < 0:\n",
        "\n",
        "#     # 次方轉換\n",
        "#     pw = np.power(alldf[name], 2)\n",
        "\n",
        "#     pw_skew = pw.skew()\n",
        "#     pw_kurt = pw.kurt()\n",
        "\n",
        "#     skew_list.append(pw_skew)\n",
        "#     kurt_list.append(pw_kurt)\n",
        "\n",
        "#     pw_dis = ((ori_skew - pw_skew) ** 2 + (ori_kurt - pw_kurt) ** 2) ** 0.5\n",
        "\n",
        "#   else:\n",
        "    \n",
        "#     # 對數轉換\n",
        "#     log = np.log(alldf[name])\n",
        "\n",
        "#     log_skew = log.skew()\n",
        "#     log_kurt = log.kurt()\n",
        "\n",
        "#     skew_list.append(log_skew)\n",
        "#     kurt_list.append(log_kurt)\n",
        "\n",
        "#     # 平方根轉換\n",
        "#     sq = alldf[name]**(1/2)\n",
        "\n",
        "#     sq_skew = sq.skew()\n",
        "#     sq_kurt = sq.kurt()\n",
        "\n",
        "#     skew_list.append(sq_skew)\n",
        "#     kurt_list.append(sq_kurt)\n",
        "\n",
        "#     # 立方根轉換\n",
        "\n",
        "#     tq = alldf[name]**(1/3)\n",
        "\n",
        "#     tq_skew = tq.skew()\n",
        "#     tq_kurt = tq.kurt()\n",
        "\n",
        "#     skew_list.append(tq_skew)\n",
        "#     kurt_list.append(tq_kurt)\n",
        "\n",
        "#     # Box-Cox 轉換\n",
        "#     bc, lam = boxcox(alldf[name])\n",
        "#     bc = pd.DataFrame(bc, columns=[name])[name]\n",
        "\n",
        "#     bc_skew = bc.skew()\n",
        "#     bc_kurt = bc.kurt()\n",
        "\n",
        "#     skew_list.append(bc_skew)\n",
        "#     kurt_list.append(bc_kurt)\n",
        "\n",
        "#     # print(skew_list)\n",
        "#     # print(kurt_list)\n",
        "\n",
        "#     trans_dict = {0: \"log\", 1: \"sq\", 2: \"tq\", 3: \"bc\"}\n",
        "\n",
        "#     skew_loc = skew_list.index(min(skew_list))  # .index -> 找出list中值的位置\n",
        "#     # print(trans_dict[skew_loc])\n",
        "\n",
        "#     kurt_loc = kurt_list.index(min(kurt_list))  # .index -> 找出list中值的位置\n",
        "#     # print(trans_dict[kurt_loc])\n",
        "\n",
        "#   # 用距離公式找出最小值，做為選擇轉換法的依據\n",
        "\n",
        "#   dis_list = []\n",
        "\n",
        "#   log_dis = ((ori_skew - log_skew) ** 2 + (ori_kurt - log_kurt) ** 2) ** 0.5\n",
        "#   dis_list.append(log_dis)\n",
        "\n",
        "#   sq_dis = ((ori_skew - sq_skew) ** 2 + (ori_kurt - sq_kurt) ** 2) ** 0.5\n",
        "#   dis_list.append(sq_dis)\n",
        "\n",
        "#   tq_dis = ((ori_skew - tq_skew) ** 2 + (ori_kurt - tq_kurt) ** 2) ** 0.5\n",
        "#   dis_list.append(tq_dis)\n",
        "  \n",
        "#   bc_dis = ((ori_skew - bc_skew) ** 2 + (ori_kurt - bc_kurt) ** 2) ** 0.5\n",
        "#   dis_list.append(bc_dis)\n",
        "\n",
        "#   # print(log_dis, sq_dis, tq_dis, bc_dis)\n",
        "#   print(dis_list)\n",
        "\n",
        "#   dis_loc = dis_list.index(min(dis_list))\n",
        "#   print(trans_dict[dis_loc])"
      ],
      "metadata": {
        "id": "liels3G_Wns5"
      },
      "execution_count": null,
      "outputs": []
    },
    {
      "cell_type": "code",
      "source": [
        "# fix(\"LotFrontage\")"
      ],
      "metadata": {
        "id": "yprH1UgIcbPv"
      },
      "execution_count": null,
      "outputs": []
    },
    {
      "cell_type": "markdown",
      "source": [
        "# 各種偏度峰度轉換法"
      ],
      "metadata": {
        "id": "bsahUqhq0r3Y"
      }
    },
    {
      "cell_type": "code",
      "source": [
        "# skewness = round(alldf[\"LotFrontage\"].skew(), 2)  # 偏度\n",
        "# kurtosis = round(alldf[\"LotFrontage\"].kurt(), 2)  # 峰度\n",
        "# print(f\"偏度(Skewness): {skewness}, 峰度(Kurtosis): {kurtosis}\")\n",
        "\n",
        "# # 繪製分布圖\n",
        "# sns.histplot(alldf[\"LotFrontage\"], kde=True)"
      ],
      "metadata": {
        "id": "FsfT3OfmN_qT"
      },
      "execution_count": null,
      "outputs": []
    },
    {
      "cell_type": "code",
      "source": [
        "# # 對數轉換\n",
        "\n",
        "# transform_data = np.log(alldf[\"LotFrontage\"])\n",
        "# # skewness 與 kurtosis\n",
        "# skewness = round(transform_data.skew(), 2)\n",
        "# kurtosis = round(transform_data.kurt(), 2)\n",
        "# print(f\"偏度(Skewness): {skewness}, 峰度(Kurtosis): {kurtosis}\")\n",
        "\n",
        "# # 繪製分布圖\n",
        "# sns.histplot(transform_data, kde=True)\n",
        "# plt.show()"
      ],
      "metadata": {
        "id": "diql_WloRBzT"
      },
      "execution_count": null,
      "outputs": []
    },
    {
      "cell_type": "code",
      "source": [
        "# # 平方根轉換\n",
        "\n",
        "# transform_data = alldf[\"LotFrontage\"]**(1/2)\n",
        "# # skewness 與 kurtosis\n",
        "# skewness = round(transform_data.skew(), 2)\n",
        "# kurtosis = round(transform_data.kurt(), 2)\n",
        "# print(f\"偏度(Skewness): {skewness}, 峰度(Kurtosis): {kurtosis}\")\n",
        "\n",
        "# # 繪製分布圖\n",
        "# sns.histplot(transform_data, kde=True)\n",
        "# plt.show()"
      ],
      "metadata": {
        "id": "YAQ_HLAxRcxA"
      },
      "execution_count": null,
      "outputs": []
    },
    {
      "cell_type": "code",
      "source": [
        "# # 立方根轉換\n",
        "\n",
        "# transform_data = alldf[\"LotFrontage\"]**(1/3)\n",
        "# # skewness 與 kurtosis\n",
        "# skewness = round(transform_data.skew(), 2)\n",
        "# kurtosis = round(transform_data.kurt(), 2)\n",
        "# print(f\"偏度(Skewness): {skewness}, 峰度(Kurtosis): {kurtosis}\")\n",
        "\n",
        "# # 繪製分布圖\n",
        "# sns.histplot(transform_data, kde=True)\n",
        "# plt.show()"
      ],
      "metadata": {
        "id": "Ifas--5NR6KX"
      },
      "execution_count": null,
      "outputs": []
    },
    {
      "cell_type": "code",
      "source": [
        "# # Box-Cox轉換\n",
        "\n",
        "# from scipy.stats import boxcox\n",
        "# transform_data, lam = boxcox(alldf[\"LotFrontage\"])\n",
        "# transform_data = pd.DataFrame(transform_data, columns=[\"LotFrontage\"])[\"LotFrontage\"]\n",
        "# # skewness 與 kurtosis\n",
        "# skewness = round(transform_data.skew(), 2)\n",
        "# kurtosis = round(transform_data.kurt(), 2)\n",
        "# print(f\"偏度(Skewness): {skewness}, 峰度(Kurtosis): {kurtosis}\")\n",
        "\n",
        "# # 繪製分布圖\n",
        "# sns.histplot(transform_data, kde=True)\n",
        "# plt.show()"
      ],
      "metadata": {
        "id": "-ddY72jNSL83"
      },
      "execution_count": null,
      "outputs": []
    }
  ],
  "metadata": {
    "colab": {
      "provenance": [],
      "collapsed_sections": [
        "VuVvAHOFoqhE",
        "ApWt7pyoIihM",
        "W1L_j5U6Iq_w",
        "uy8pEWKW0lx9",
        "bsahUqhq0r3Y"
      ],
      "authorship_tag": "ABX9TyOy7+zxSS+LIXf5bFdA7AyZ",
      "include_colab_link": true
    },
    "kernelspec": {
      "display_name": "Python 3",
      "name": "python3"
    },
    "language_info": {
      "name": "python"
    }
  },
  "nbformat": 4,
  "nbformat_minor": 0
}